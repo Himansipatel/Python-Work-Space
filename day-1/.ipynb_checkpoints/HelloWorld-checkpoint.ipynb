{
 "cells": [
  {
   "cell_type": "code",
   "execution_count": 1,
   "metadata": {},
   "outputs": [
    {
     "name": "stdout",
     "output_type": "stream",
     "text": [
      "hello world ??\n"
     ]
    }
   ],
   "source": [
    "print('hello world ??')"
   ]
  },
  {
   "cell_type": "code",
   "execution_count": 2,
   "metadata": {},
   "outputs": [
    {
     "data": {
      "text/plain": [
       "65536"
      ]
     },
     "execution_count": 2,
     "metadata": {},
     "output_type": "execute_result"
    }
   ],
   "source": [
    "2**16"
   ]
  },
  {
   "cell_type": "code",
   "execution_count": 3,
   "metadata": {},
   "outputs": [
    {
     "data": {
      "text/plain": [
       "(1+0j)"
      ]
     },
     "execution_count": 3,
     "metadata": {},
     "output_type": "execute_result"
    }
   ],
   "source": [
    "complex(1)"
   ]
  },
  {
   "cell_type": "code",
   "execution_count": 4,
   "metadata": {},
   "outputs": [
    {
     "data": {
      "text/plain": [
       "2.0"
      ]
     },
     "execution_count": 4,
     "metadata": {},
     "output_type": "execute_result"
    }
   ],
   "source": [
    "float(2)"
   ]
  },
  {
   "cell_type": "code",
   "execution_count": 10,
   "metadata": {},
   "outputs": [
    {
     "name": "stdout",
     "output_type": "stream",
     "text": [
      "world's\n"
     ]
    }
   ],
   "source": [
    "str1=\"world's\"\n",
    "print(str1)"
   ]
  },
  {
   "cell_type": "code",
   "execution_count": 13,
   "metadata": {},
   "outputs": [],
   "source": [
    "a=1"
   ]
  },
  {
   "cell_type": "code",
   "execution_count": 14,
   "metadata": {},
   "outputs": [
    {
     "data": {
      "text/plain": [
       "int"
      ]
     },
     "execution_count": 14,
     "metadata": {},
     "output_type": "execute_result"
    }
   ],
   "source": [
    "type(a)"
   ]
  },
  {
   "cell_type": "code",
   "execution_count": 15,
   "metadata": {},
   "outputs": [],
   "source": [
    "a=\"hi there\""
   ]
  },
  {
   "cell_type": "code",
   "execution_count": 16,
   "metadata": {},
   "outputs": [
    {
     "data": {
      "text/plain": [
       "str"
      ]
     },
     "execution_count": 16,
     "metadata": {},
     "output_type": "execute_result"
    }
   ],
   "source": [
    "type(a)"
   ]
  },
  {
   "cell_type": "code",
   "execution_count": 17,
   "metadata": {},
   "outputs": [],
   "source": [
    "b=4.78"
   ]
  },
  {
   "cell_type": "code",
   "execution_count": 18,
   "metadata": {},
   "outputs": [
    {
     "data": {
      "text/plain": [
       "float"
      ]
     },
     "execution_count": 18,
     "metadata": {},
     "output_type": "execute_result"
    }
   ],
   "source": [
    "type(b)"
   ]
  },
  {
   "cell_type": "code",
   "execution_count": 20,
   "metadata": {},
   "outputs": [],
   "source": [
    "c=False"
   ]
  },
  {
   "cell_type": "code",
   "execution_count": 21,
   "metadata": {},
   "outputs": [
    {
     "data": {
      "text/plain": [
       "bool"
      ]
     },
     "execution_count": 21,
     "metadata": {},
     "output_type": "execute_result"
    }
   ],
   "source": [
    "type(c)"
   ]
  },
  {
   "cell_type": "code",
   "execution_count": 22,
   "metadata": {},
   "outputs": [
    {
     "data": {
      "text/plain": [
       "'hi there'"
      ]
     },
     "execution_count": 22,
     "metadata": {},
     "output_type": "execute_result"
    }
   ],
   "source": [
    "a"
   ]
  },
  {
   "cell_type": "code",
   "execution_count": 23,
   "metadata": {},
   "outputs": [],
   "source": [
    "a=\"I'm walking\""
   ]
  },
  {
   "cell_type": "code",
   "execution_count": 24,
   "metadata": {},
   "outputs": [
    {
     "data": {
      "text/plain": [
       "\"I'M WALKING\""
      ]
     },
     "execution_count": 24,
     "metadata": {},
     "output_type": "execute_result"
    }
   ],
   "source": [
    "a.upper()"
   ]
  },
  {
   "cell_type": "code",
   "execution_count": 25,
   "metadata": {},
   "outputs": [
    {
     "data": {
      "text/plain": [
       "\"i'm walking\""
      ]
     },
     "execution_count": 25,
     "metadata": {},
     "output_type": "execute_result"
    }
   ],
   "source": [
    "a.lower()"
   ]
  },
  {
   "cell_type": "code",
   "execution_count": 26,
   "metadata": {},
   "outputs": [
    {
     "data": {
      "text/plain": [
       "\"I'M Walking\""
      ]
     },
     "execution_count": 26,
     "metadata": {},
     "output_type": "execute_result"
    }
   ],
   "source": [
    "a.title()"
   ]
  },
  {
   "cell_type": "code",
   "execution_count": 27,
   "metadata": {},
   "outputs": [
    {
     "data": {
      "text/plain": [
       "'I'"
      ]
     },
     "execution_count": 27,
     "metadata": {},
     "output_type": "execute_result"
    }
   ],
   "source": [
    "a[0]"
   ]
  },
  {
   "cell_type": "code",
   "execution_count": 29,
   "metadata": {},
   "outputs": [
    {
     "data": {
      "text/plain": [
       "\"I'm \""
      ]
     },
     "execution_count": 29,
     "metadata": {},
     "output_type": "execute_result"
    }
   ],
   "source": [
    "a[0:4]"
   ]
  },
  {
   "cell_type": "code",
   "execution_count": 30,
   "metadata": {},
   "outputs": [
    {
     "data": {
      "text/plain": [
       "11"
      ]
     },
     "execution_count": 30,
     "metadata": {},
     "output_type": "execute_result"
    }
   ],
   "source": [
    "len(a)"
   ]
  },
  {
   "cell_type": "code",
   "execution_count": 32,
   "metadata": {},
   "outputs": [
    {
     "data": {
      "text/plain": [
       "1"
      ]
     },
     "execution_count": 32,
     "metadata": {},
     "output_type": "execute_result"
    }
   ],
   "source": [
    "a.count('l')"
   ]
  },
  {
   "cell_type": "code",
   "execution_count": 33,
   "metadata": {},
   "outputs": [
    {
     "data": {
      "text/plain": [
       "1"
      ]
     },
     "execution_count": 33,
     "metadata": {},
     "output_type": "execute_result"
    }
   ],
   "source": [
    "a.count('ki')"
   ]
  },
  {
   "cell_type": "code",
   "execution_count": 34,
   "metadata": {},
   "outputs": [
    {
     "data": {
      "text/plain": [
       "\"I'm walking\""
      ]
     },
     "execution_count": 34,
     "metadata": {},
     "output_type": "execute_result"
    }
   ],
   "source": [
    "a"
   ]
  },
  {
   "cell_type": "code",
   "execution_count": 35,
   "metadata": {},
   "outputs": [
    {
     "data": {
      "text/plain": [
       "7"
      ]
     },
     "execution_count": 35,
     "metadata": {},
     "output_type": "execute_result"
    }
   ],
   "source": [
    "a.find('k')"
   ]
  },
  {
   "cell_type": "code",
   "execution_count": 37,
   "metadata": {},
   "outputs": [
    {
     "data": {
      "text/plain": [
       "-1"
      ]
     },
     "execution_count": 37,
     "metadata": {},
     "output_type": "execute_result"
    }
   ],
   "source": [
    "a.find('z') #find index of char in string"
   ]
  },
  {
   "cell_type": "code",
   "execution_count": 38,
   "metadata": {},
   "outputs": [
    {
     "data": {
      "text/plain": [
       "-1"
      ]
     },
     "execution_count": 38,
     "metadata": {},
     "output_type": "execute_result"
    }
   ],
   "source": [
    "a[0:3].find('your character')\n",
    "a[4:9].find('character')"
   ]
  },
  {
   "cell_type": "code",
   "execution_count": 43,
   "metadata": {},
   "outputs": [],
   "source": [
    "a=[1,2,3,4,5,\"hello\",True]"
   ]
  },
  {
   "cell_type": "code",
   "execution_count": 45,
   "metadata": {},
   "outputs": [
    {
     "data": {
      "text/plain": [
       "bool"
      ]
     },
     "execution_count": 45,
     "metadata": {},
     "output_type": "execute_result"
    }
   ],
   "source": [
    "type(a[6])"
   ]
  },
  {
   "cell_type": "code",
   "execution_count": 41,
   "metadata": {},
   "outputs": [
    {
     "data": {
      "text/plain": [
       "5"
      ]
     },
     "execution_count": 41,
     "metadata": {},
     "output_type": "execute_result"
    }
   ],
   "source": [
    "a[4]"
   ]
  },
  {
   "cell_type": "code",
   "execution_count": 42,
   "metadata": {},
   "outputs": [
    {
     "name": "stdout",
     "output_type": "stream",
     "text": [
      "[1, 2, 3, 4, 5]\n"
     ]
    }
   ],
   "source": [
    "print(a)"
   ]
  },
  {
   "cell_type": "code",
   "execution_count": 46,
   "metadata": {},
   "outputs": [
    {
     "data": {
      "text/plain": [
       "[1, 2, 3]"
      ]
     },
     "execution_count": 46,
     "metadata": {},
     "output_type": "execute_result"
    }
   ],
   "source": [
    "a[0:3]"
   ]
  },
  {
   "cell_type": "code",
   "execution_count": 47,
   "metadata": {},
   "outputs": [
    {
     "name": "stdout",
     "output_type": "stream",
     "text": [
      "[1, 2, 3]\n"
     ]
    }
   ],
   "source": [
    "print(a[0:3])"
   ]
  },
  {
   "cell_type": "code",
   "execution_count": 48,
   "metadata": {},
   "outputs": [
    {
     "data": {
      "text/plain": [
       "[4, 5, 'hello', True]"
      ]
     },
     "execution_count": 48,
     "metadata": {},
     "output_type": "execute_result"
    }
   ],
   "source": [
    "a[3:]"
   ]
  },
  {
   "cell_type": "code",
   "execution_count": 49,
   "metadata": {},
   "outputs": [
    {
     "data": {
      "text/plain": [
       "[1, 2, 3, 4, 5, 'hello']"
      ]
     },
     "execution_count": 49,
     "metadata": {},
     "output_type": "execute_result"
    }
   ],
   "source": [
    "a[:6]"
   ]
  },
  {
   "cell_type": "code",
   "execution_count": 139,
   "metadata": {},
   "outputs": [
    {
     "name": "stdout",
     "output_type": "stream",
     "text": [
      "['a', 'hello', 'c']\n"
     ]
    }
   ],
   "source": [
    "a = a[::-1]\n",
    "print(a)"
   ]
  },
  {
   "cell_type": "code",
   "execution_count": 51,
   "metadata": {},
   "outputs": [],
   "source": [
    "m=\"abcdf ghi de\""
   ]
  },
  {
   "cell_type": "code",
   "execution_count": 52,
   "metadata": {},
   "outputs": [
    {
     "data": {
      "text/plain": [
       "'ed ihg fdcba'"
      ]
     },
     "execution_count": 52,
     "metadata": {},
     "output_type": "execute_result"
    }
   ],
   "source": [
    "m[::-1]"
   ]
  },
  {
   "cell_type": "code",
   "execution_count": 56,
   "metadata": {},
   "outputs": [
    {
     "data": {
      "text/plain": [
       "[3, 2, 1]"
      ]
     },
     "execution_count": 56,
     "metadata": {},
     "output_type": "execute_result"
    }
   ],
   "source": [
    "a[2::-1]"
   ]
  },
  {
   "cell_type": "code",
   "execution_count": 60,
   "metadata": {},
   "outputs": [
    {
     "data": {
      "text/plain": [
       "0"
      ]
     },
     "execution_count": 60,
     "metadata": {},
     "output_type": "execute_result"
    }
   ],
   "source": [
    "a.index(True)"
   ]
  },
  {
   "cell_type": "code",
   "execution_count": null,
   "metadata": {},
   "outputs": [],
   "source": [
    "a"
   ]
  },
  {
   "cell_type": "code",
   "execution_count": 125,
   "metadata": {},
   "outputs": [],
   "source": [
    "s=\"abcd\""
   ]
  },
  {
   "cell_type": "code",
   "execution_count": 126,
   "metadata": {},
   "outputs": [],
   "source": [
    "e=\"xywz\""
   ]
  },
  {
   "cell_type": "code",
   "execution_count": 127,
   "metadata": {},
   "outputs": [],
   "source": [
    "user = 'ba'"
   ]
  },
  {
   "cell_type": "code",
   "execution_count": 136,
   "metadata": {},
   "outputs": [],
   "source": [
    "def encoder(user):\n",
    "    concate_str=\"\"\n",
    "    for item in user:\n",
    "        user_index=s.find(item)\n",
    "        if user_index!=-1:\n",
    "            concate_str=concate_str+e[user_index]\n",
    "        else:\n",
    "            print(\"not found\")\n",
    "        #print(\"\")  \n",
    "    return concate_str"
   ]
  },
  {
   "cell_type": "code",
   "execution_count": 137,
   "metadata": {},
   "outputs": [
    {
     "name": "stdout",
     "output_type": "stream",
     "text": [
      "yxyy\n"
     ]
    }
   ],
   "source": [
    "print(encoder(\"babb\"))"
   ]
  },
  {
   "cell_type": "code",
   "execution_count": 94,
   "metadata": {},
   "outputs": [],
   "source": [
    "user_index=s.find(user)"
   ]
  },
  {
   "cell_type": "code",
   "execution_count": 95,
   "metadata": {},
   "outputs": [
    {
     "name": "stdout",
     "output_type": "stream",
     "text": [
      "not found\n"
     ]
    }
   ],
   "source": [
    "if user_index!=-1:\n",
    "    print(e[user_index])\n",
    "else:\n",
    "    print(\"not found\")"
   ]
  },
  {
   "cell_type": "code",
   "execution_count": 96,
   "metadata": {},
   "outputs": [
    {
     "data": {
      "text/plain": [
       "'z'"
      ]
     },
     "execution_count": 96,
     "metadata": {},
     "output_type": "execute_result"
    }
   ],
   "source": [
    "e[user_index]"
   ]
  },
  {
   "cell_type": "code",
   "execution_count": 97,
   "metadata": {},
   "outputs": [
    {
     "data": {
      "text/plain": [
       "'w'"
      ]
     },
     "execution_count": 97,
     "metadata": {},
     "output_type": "execute_result"
    }
   ],
   "source": [
    "e[-2]"
   ]
  },
  {
   "cell_type": "code",
   "execution_count": 98,
   "metadata": {},
   "outputs": [],
   "source": [
    "s=\"hello\""
   ]
  },
  {
   "cell_type": "code",
   "execution_count": 99,
   "metadata": {},
   "outputs": [],
   "source": [
    "a=[\"a\",\"hello\",\"c\"]"
   ]
  },
  {
   "cell_type": "code",
   "execution_count": 90,
   "metadata": {},
   "outputs": [
    {
     "name": "stdout",
     "output_type": "stream",
     "text": [
      "a\n",
      "\n",
      "hello\n",
      "\n",
      "c\n",
      "\n"
     ]
    }
   ],
   "source": [
    "for item in a:\n",
    "    print(item)\n",
    "    print(\"\")"
   ]
  },
  {
   "cell_type": "code",
   "execution_count": 131,
   "metadata": {},
   "outputs": [],
   "source": [
    "def my_sum(s1,s2):\n",
    "    print(\"first\" + s1)\n",
    "    print(\"second\" + s2)\n",
    "    print(s1+s2)"
   ]
  },
  {
   "cell_type": "code",
   "execution_count": 132,
   "metadata": {},
   "outputs": [
    {
     "name": "stdout",
     "output_type": "stream",
     "text": [
      "firsthello\n",
      "secondworld\n",
      "helloworld\n"
     ]
    }
   ],
   "source": [
    "my_sum(\"hello\",\"world\")"
   ]
  },
  {
   "cell_type": "code",
   "execution_count": 142,
   "metadata": {},
   "outputs": [
    {
     "data": {
      "text/plain": [
       "2"
      ]
     },
     "execution_count": 142,
     "metadata": {},
     "output_type": "execute_result"
    }
   ],
   "source": [
    "test = [2,3,True]\n",
    "test.index(True)"
   ]
  },
  {
   "cell_type": "code",
   "execution_count": 141,
   "metadata": {},
   "outputs": [
    {
     "data": {
      "text/plain": [
       "2"
      ]
     },
     "execution_count": 141,
     "metadata": {},
     "output_type": "execute_result"
    }
   ],
   "source": [
    "test.index(3)"
   ]
  },
  {
   "cell_type": "code",
   "execution_count": 152,
   "metadata": {},
   "outputs": [],
   "source": [
    "d = {'a':1,'b':2,'c':3}"
   ]
  },
  {
   "cell_type": "code",
   "execution_count": 153,
   "metadata": {},
   "outputs": [
    {
     "data": {
      "text/plain": [
       "dict"
      ]
     },
     "execution_count": 153,
     "metadata": {},
     "output_type": "execute_result"
    }
   ],
   "source": [
    "type(d)"
   ]
  },
  {
   "cell_type": "code",
   "execution_count": 154,
   "metadata": {},
   "outputs": [
    {
     "data": {
      "text/plain": [
       "3"
      ]
     },
     "execution_count": 154,
     "metadata": {},
     "output_type": "execute_result"
    }
   ],
   "source": [
    "d[\"c\"]"
   ]
  },
  {
   "cell_type": "code",
   "execution_count": 157,
   "metadata": {},
   "outputs": [
    {
     "name": "stdout",
     "output_type": "stream",
     "text": [
      "1\n",
      "2\n",
      "3\n"
     ]
    }
   ],
   "source": [
    "for item in d:\n",
    "    print(d[item])"
   ]
  },
  {
   "cell_type": "code",
   "execution_count": 158,
   "metadata": {},
   "outputs": [],
   "source": [
    "import pandas"
   ]
  },
  {
   "cell_type": "code",
   "execution_count": 161,
   "metadata": {},
   "outputs": [],
   "source": [
    "df=pandas.DataFrame({'a':[1,2], 'b':[3,4]})"
   ]
  },
  {
   "cell_type": "code",
   "execution_count": 163,
   "metadata": {},
   "outputs": [
    {
     "data": {
      "text/plain": [
       "pandas.core.frame.DataFrame"
      ]
     },
     "execution_count": 163,
     "metadata": {},
     "output_type": "execute_result"
    }
   ],
   "source": [
    "type(df)"
   ]
  },
  {
   "cell_type": "code",
   "execution_count": 164,
   "metadata": {},
   "outputs": [
    {
     "data": {
      "text/plain": [
       "2"
      ]
     },
     "execution_count": 164,
     "metadata": {},
     "output_type": "execute_result"
    }
   ],
   "source": [
    "len(df)"
   ]
  },
  {
   "cell_type": "code",
   "execution_count": 165,
   "metadata": {},
   "outputs": [
    {
     "data": {
      "text/html": [
       "<div>\n",
       "<style scoped>\n",
       "    .dataframe tbody tr th:only-of-type {\n",
       "        vertical-align: middle;\n",
       "    }\n",
       "\n",
       "    .dataframe tbody tr th {\n",
       "        vertical-align: top;\n",
       "    }\n",
       "\n",
       "    .dataframe thead th {\n",
       "        text-align: right;\n",
       "    }\n",
       "</style>\n",
       "<table border=\"1\" class=\"dataframe\">\n",
       "  <thead>\n",
       "    <tr style=\"text-align: right;\">\n",
       "      <th></th>\n",
       "      <th>a</th>\n",
       "      <th>b</th>\n",
       "    </tr>\n",
       "  </thead>\n",
       "  <tbody>\n",
       "    <tr>\n",
       "      <th>0</th>\n",
       "      <td>1</td>\n",
       "      <td>3</td>\n",
       "    </tr>\n",
       "    <tr>\n",
       "      <th>1</th>\n",
       "      <td>2</td>\n",
       "      <td>4</td>\n",
       "    </tr>\n",
       "  </tbody>\n",
       "</table>\n",
       "</div>"
      ],
      "text/plain": [
       "   a  b\n",
       "0  1  3\n",
       "1  2  4"
      ]
     },
     "execution_count": 165,
     "metadata": {},
     "output_type": "execute_result"
    }
   ],
   "source": [
    "df"
   ]
  },
  {
   "cell_type": "code",
   "execution_count": 166,
   "metadata": {},
   "outputs": [],
   "source": [
    "import pandas as pd"
   ]
  },
  {
   "cell_type": "code",
   "execution_count": 169,
   "metadata": {},
   "outputs": [],
   "source": [
    "df=pd.read_csv(\"physician_rx.csv\")"
   ]
  },
  {
   "cell_type": "code",
   "execution_count": 171,
   "metadata": {},
   "outputs": [
    {
     "name": "stdout",
     "output_type": "stream",
     "text": [
      "    PHYSICIAN  CroMax_RX  GlycoMax_RX  AllergyMax_RX  FevMax_RX  ColdMax_RX\n",
      "0   AP1912920        0.0           50            510        152           0\n",
      "1   AP1350415     2370.0         1320             60       1416        2676\n",
      "2   AP0129322        0.0           85              0          0         144\n",
      "3   AP0462902       30.0          570              0        128        3900\n",
      "4   AP3185026        0.0           40           1080          0           0\n",
      "5   AP3674571       70.0           40              0         64           0\n",
      "6   AP0126982        0.0          135              0          0           0\n",
      "7         NaN      150.0          315            270        184          36\n",
      "8   AP1807651        0.0          650              0          0         300\n",
      "9   AP0728371        0.0            0              0          0           0\n",
      "10  AP1934892      640.0          390              0        280           0\n",
      "11  AP1595288      160.0           35             45          0           0\n",
      "12  AP1883103        0.0          225            240          0           0\n",
      "13  AP1365782      400.0           15            255        704         444\n",
      "14        NaN       90.0          150              0          0         204\n",
      "15  AP2443797        0.0           25              0         72          48\n",
      "16  AP0036951      330.0          525              0          0           0\n",
      "17  AP3200230        0.0          135              0          0           0\n",
      "18  AP0139724        0.0           85            360          0         480\n",
      "19  AP2166075        0.0           70              0          0          36\n",
      "20        NaN        0.0           20              0          0          48\n",
      "21  AP1332969       90.0          870              0         88          24\n",
      "22  AP2130355      160.0          145              0          0         180\n",
      "23  AP0714887      160.0          780            615         16        2964\n",
      "24  AP2214740        0.0           90              0          0           0\n",
      "25  AP0857188        0.0          130              0          0         588\n",
      "26        NaN      150.0          220            510         32        1128\n",
      "27  AP1874350        0.0            0             75          0           0\n",
      "28  AP3209293        0.0           55            465          0           0\n",
      "29  AP0089696      930.0          250           3435          0         396\n",
      "..        ...        ...          ...            ...        ...         ...\n",
      "70  AP0683877       50.0           90            240          0           0\n",
      "71  AP0118925      160.0          375              0        240           0\n",
      "72  AP2152296        0.0           40              0          0         324\n",
      "73  AP1343639       10.0           45              0         24         528\n",
      "74  AP1869077     1830.0          140              0        488          72\n",
      "75  AP2196115        0.0            0              0          0         384\n",
      "76  AP1230067      110.0           70              0          0           0\n",
      "77  AP2014650        0.0           60              0          0          60\n",
      "78  AP2281620        0.0          255              0          0          36\n",
      "79  AP1336198      150.0          615              0          0           0\n",
      "80  AP0849708        0.0           90           3495          0           0\n",
      "81  AP2113896       20.0           30              0          0           0\n",
      "82  AP1834639      270.0         1240             60         40          60\n",
      "83  AP0455565        0.0          105            810         24        1896\n",
      "84  AP0849030        0.0           80            525          0          24\n",
      "85  AP0478796      630.0          240            150          0          96\n",
      "86  AP3589376        0.0          135              0          0          72\n",
      "87  AP2459335      320.0          320              0        256          12\n",
      "88  AP0812453        NaN           45              0          0         264\n",
      "89  AP0433841      120.0           65              0          0           0\n",
      "90  AP1947403        0.0          240              0          8         156\n",
      "91  AP0189854        0.0           70            720          0           0\n",
      "92  AP3883979        0.0          255              0          0         132\n",
      "93  AP0390218        0.0          105            180         40           0\n",
      "94  AP2286280        0.0            0              0          0         144\n",
      "95  AP1957774      390.0           15              0         16          36\n",
      "96  AP1273998      480.0          630              0          0           0\n",
      "97  AP1228990        0.0            0              0          0         180\n",
      "98  AP1881803        0.0           10              0          0           0\n",
      "99  AP4772804       10.0            0              0          0           0\n",
      "\n",
      "[100 rows x 6 columns]\n"
     ]
    }
   ],
   "source": [
    "print(df)"
   ]
  },
  {
   "cell_type": "code",
   "execution_count": 184,
   "metadata": {},
   "outputs": [],
   "source": [
    "#for item in df:\n",
    "  #  print(df[item])"
   ]
  },
  {
   "cell_type": "code",
   "execution_count": 174,
   "metadata": {},
   "outputs": [
    {
     "data": {
      "text/html": [
       "<div>\n",
       "<style scoped>\n",
       "    .dataframe tbody tr th:only-of-type {\n",
       "        vertical-align: middle;\n",
       "    }\n",
       "\n",
       "    .dataframe tbody tr th {\n",
       "        vertical-align: top;\n",
       "    }\n",
       "\n",
       "    .dataframe thead th {\n",
       "        text-align: right;\n",
       "    }\n",
       "</style>\n",
       "<table border=\"1\" class=\"dataframe\">\n",
       "  <thead>\n",
       "    <tr style=\"text-align: right;\">\n",
       "      <th></th>\n",
       "      <th>PHYSICIAN</th>\n",
       "      <th>CroMax_RX</th>\n",
       "      <th>GlycoMax_RX</th>\n",
       "      <th>AllergyMax_RX</th>\n",
       "      <th>FevMax_RX</th>\n",
       "      <th>ColdMax_RX</th>\n",
       "    </tr>\n",
       "  </thead>\n",
       "  <tbody>\n",
       "    <tr>\n",
       "      <th>0</th>\n",
       "      <td>AP1912920</td>\n",
       "      <td>0.0</td>\n",
       "      <td>50</td>\n",
       "      <td>510</td>\n",
       "      <td>152</td>\n",
       "      <td>0</td>\n",
       "    </tr>\n",
       "    <tr>\n",
       "      <th>1</th>\n",
       "      <td>AP1350415</td>\n",
       "      <td>2370.0</td>\n",
       "      <td>1320</td>\n",
       "      <td>60</td>\n",
       "      <td>1416</td>\n",
       "      <td>2676</td>\n",
       "    </tr>\n",
       "    <tr>\n",
       "      <th>2</th>\n",
       "      <td>AP0129322</td>\n",
       "      <td>0.0</td>\n",
       "      <td>85</td>\n",
       "      <td>0</td>\n",
       "      <td>0</td>\n",
       "      <td>144</td>\n",
       "    </tr>\n",
       "    <tr>\n",
       "      <th>3</th>\n",
       "      <td>AP0462902</td>\n",
       "      <td>30.0</td>\n",
       "      <td>570</td>\n",
       "      <td>0</td>\n",
       "      <td>128</td>\n",
       "      <td>3900</td>\n",
       "    </tr>\n",
       "    <tr>\n",
       "      <th>4</th>\n",
       "      <td>AP3185026</td>\n",
       "      <td>0.0</td>\n",
       "      <td>40</td>\n",
       "      <td>1080</td>\n",
       "      <td>0</td>\n",
       "      <td>0</td>\n",
       "    </tr>\n",
       "  </tbody>\n",
       "</table>\n",
       "</div>"
      ],
      "text/plain": [
       "   PHYSICIAN  CroMax_RX  GlycoMax_RX  AllergyMax_RX  FevMax_RX  ColdMax_RX\n",
       "0  AP1912920        0.0           50            510        152           0\n",
       "1  AP1350415     2370.0         1320             60       1416        2676\n",
       "2  AP0129322        0.0           85              0          0         144\n",
       "3  AP0462902       30.0          570              0        128        3900\n",
       "4  AP3185026        0.0           40           1080          0           0"
      ]
     },
     "execution_count": 174,
     "metadata": {},
     "output_type": "execute_result"
    }
   ],
   "source": [
    "df.head()"
   ]
  },
  {
   "cell_type": "code",
   "execution_count": 175,
   "metadata": {},
   "outputs": [
    {
     "data": {
      "text/html": [
       "<div>\n",
       "<style scoped>\n",
       "    .dataframe tbody tr th:only-of-type {\n",
       "        vertical-align: middle;\n",
       "    }\n",
       "\n",
       "    .dataframe tbody tr th {\n",
       "        vertical-align: top;\n",
       "    }\n",
       "\n",
       "    .dataframe thead th {\n",
       "        text-align: right;\n",
       "    }\n",
       "</style>\n",
       "<table border=\"1\" class=\"dataframe\">\n",
       "  <thead>\n",
       "    <tr style=\"text-align: right;\">\n",
       "      <th></th>\n",
       "      <th>PHYSICIAN</th>\n",
       "      <th>CroMax_RX</th>\n",
       "      <th>GlycoMax_RX</th>\n",
       "      <th>AllergyMax_RX</th>\n",
       "      <th>FevMax_RX</th>\n",
       "      <th>ColdMax_RX</th>\n",
       "    </tr>\n",
       "  </thead>\n",
       "  <tbody>\n",
       "    <tr>\n",
       "      <th>95</th>\n",
       "      <td>AP1957774</td>\n",
       "      <td>390.0</td>\n",
       "      <td>15</td>\n",
       "      <td>0</td>\n",
       "      <td>16</td>\n",
       "      <td>36</td>\n",
       "    </tr>\n",
       "    <tr>\n",
       "      <th>96</th>\n",
       "      <td>AP1273998</td>\n",
       "      <td>480.0</td>\n",
       "      <td>630</td>\n",
       "      <td>0</td>\n",
       "      <td>0</td>\n",
       "      <td>0</td>\n",
       "    </tr>\n",
       "    <tr>\n",
       "      <th>97</th>\n",
       "      <td>AP1228990</td>\n",
       "      <td>0.0</td>\n",
       "      <td>0</td>\n",
       "      <td>0</td>\n",
       "      <td>0</td>\n",
       "      <td>180</td>\n",
       "    </tr>\n",
       "    <tr>\n",
       "      <th>98</th>\n",
       "      <td>AP1881803</td>\n",
       "      <td>0.0</td>\n",
       "      <td>10</td>\n",
       "      <td>0</td>\n",
       "      <td>0</td>\n",
       "      <td>0</td>\n",
       "    </tr>\n",
       "    <tr>\n",
       "      <th>99</th>\n",
       "      <td>AP4772804</td>\n",
       "      <td>10.0</td>\n",
       "      <td>0</td>\n",
       "      <td>0</td>\n",
       "      <td>0</td>\n",
       "      <td>0</td>\n",
       "    </tr>\n",
       "  </tbody>\n",
       "</table>\n",
       "</div>"
      ],
      "text/plain": [
       "    PHYSICIAN  CroMax_RX  GlycoMax_RX  AllergyMax_RX  FevMax_RX  ColdMax_RX\n",
       "95  AP1957774      390.0           15              0         16          36\n",
       "96  AP1273998      480.0          630              0          0           0\n",
       "97  AP1228990        0.0            0              0          0         180\n",
       "98  AP1881803        0.0           10              0          0           0\n",
       "99  AP4772804       10.0            0              0          0           0"
      ]
     },
     "execution_count": 175,
     "metadata": {},
     "output_type": "execute_result"
    }
   ],
   "source": [
    "df.tail()"
   ]
  },
  {
   "cell_type": "code",
   "execution_count": 179,
   "metadata": {},
   "outputs": [
    {
     "data": {
      "text/plain": [
       "(100, 6)"
      ]
     },
     "execution_count": 179,
     "metadata": {},
     "output_type": "execute_result"
    }
   ],
   "source": [
    "df.shape"
   ]
  },
  {
   "cell_type": "code",
   "execution_count": 180,
   "metadata": {},
   "outputs": [
    {
     "data": {
      "text/plain": [
       "Index(['PHYSICIAN', 'CroMax_RX', 'GlycoMax_RX', 'AllergyMax_RX', 'FevMax_RX',\n",
       "       'ColdMax_RX'],\n",
       "      dtype='object')"
      ]
     },
     "execution_count": 180,
     "metadata": {},
     "output_type": "execute_result"
    }
   ],
   "source": [
    "df.columns"
   ]
  },
  {
   "cell_type": "code",
   "execution_count": 181,
   "metadata": {},
   "outputs": [
    {
     "data": {
      "text/html": [
       "<div>\n",
       "<style scoped>\n",
       "    .dataframe tbody tr th:only-of-type {\n",
       "        vertical-align: middle;\n",
       "    }\n",
       "\n",
       "    .dataframe tbody tr th {\n",
       "        vertical-align: top;\n",
       "    }\n",
       "\n",
       "    .dataframe thead th {\n",
       "        text-align: right;\n",
       "    }\n",
       "</style>\n",
       "<table border=\"1\" class=\"dataframe\">\n",
       "  <thead>\n",
       "    <tr style=\"text-align: right;\">\n",
       "      <th></th>\n",
       "      <th>PHYSICIAN</th>\n",
       "      <th>CroMax_RX</th>\n",
       "      <th>GlycoMax_RX</th>\n",
       "      <th>AllergyMax_RX</th>\n",
       "      <th>FevMax_RX</th>\n",
       "      <th>ColdMax_RX</th>\n",
       "    </tr>\n",
       "  </thead>\n",
       "  <tbody>\n",
       "    <tr>\n",
       "      <th>0</th>\n",
       "      <td>AP1912920</td>\n",
       "      <td>0.0</td>\n",
       "      <td>50</td>\n",
       "      <td>510</td>\n",
       "      <td>152</td>\n",
       "      <td>0</td>\n",
       "    </tr>\n",
       "    <tr>\n",
       "      <th>1</th>\n",
       "      <td>AP1350415</td>\n",
       "      <td>2370.0</td>\n",
       "      <td>1320</td>\n",
       "      <td>60</td>\n",
       "      <td>1416</td>\n",
       "      <td>2676</td>\n",
       "    </tr>\n",
       "    <tr>\n",
       "      <th>2</th>\n",
       "      <td>AP0129322</td>\n",
       "      <td>0.0</td>\n",
       "      <td>85</td>\n",
       "      <td>0</td>\n",
       "      <td>0</td>\n",
       "      <td>144</td>\n",
       "    </tr>\n",
       "    <tr>\n",
       "      <th>3</th>\n",
       "      <td>AP0462902</td>\n",
       "      <td>30.0</td>\n",
       "      <td>570</td>\n",
       "      <td>0</td>\n",
       "      <td>128</td>\n",
       "      <td>3900</td>\n",
       "    </tr>\n",
       "    <tr>\n",
       "      <th>4</th>\n",
       "      <td>AP3185026</td>\n",
       "      <td>0.0</td>\n",
       "      <td>40</td>\n",
       "      <td>1080</td>\n",
       "      <td>0</td>\n",
       "      <td>0</td>\n",
       "    </tr>\n",
       "    <tr>\n",
       "      <th>5</th>\n",
       "      <td>AP3674571</td>\n",
       "      <td>70.0</td>\n",
       "      <td>40</td>\n",
       "      <td>0</td>\n",
       "      <td>64</td>\n",
       "      <td>0</td>\n",
       "    </tr>\n",
       "    <tr>\n",
       "      <th>6</th>\n",
       "      <td>AP0126982</td>\n",
       "      <td>0.0</td>\n",
       "      <td>135</td>\n",
       "      <td>0</td>\n",
       "      <td>0</td>\n",
       "      <td>0</td>\n",
       "    </tr>\n",
       "    <tr>\n",
       "      <th>7</th>\n",
       "      <td>NaN</td>\n",
       "      <td>150.0</td>\n",
       "      <td>315</td>\n",
       "      <td>270</td>\n",
       "      <td>184</td>\n",
       "      <td>36</td>\n",
       "    </tr>\n",
       "    <tr>\n",
       "      <th>8</th>\n",
       "      <td>AP1807651</td>\n",
       "      <td>0.0</td>\n",
       "      <td>650</td>\n",
       "      <td>0</td>\n",
       "      <td>0</td>\n",
       "      <td>300</td>\n",
       "    </tr>\n",
       "    <tr>\n",
       "      <th>9</th>\n",
       "      <td>AP0728371</td>\n",
       "      <td>0.0</td>\n",
       "      <td>0</td>\n",
       "      <td>0</td>\n",
       "      <td>0</td>\n",
       "      <td>0</td>\n",
       "    </tr>\n",
       "    <tr>\n",
       "      <th>10</th>\n",
       "      <td>AP1934892</td>\n",
       "      <td>640.0</td>\n",
       "      <td>390</td>\n",
       "      <td>0</td>\n",
       "      <td>280</td>\n",
       "      <td>0</td>\n",
       "    </tr>\n",
       "    <tr>\n",
       "      <th>11</th>\n",
       "      <td>AP1595288</td>\n",
       "      <td>160.0</td>\n",
       "      <td>35</td>\n",
       "      <td>45</td>\n",
       "      <td>0</td>\n",
       "      <td>0</td>\n",
       "    </tr>\n",
       "    <tr>\n",
       "      <th>12</th>\n",
       "      <td>AP1883103</td>\n",
       "      <td>0.0</td>\n",
       "      <td>225</td>\n",
       "      <td>240</td>\n",
       "      <td>0</td>\n",
       "      <td>0</td>\n",
       "    </tr>\n",
       "    <tr>\n",
       "      <th>13</th>\n",
       "      <td>AP1365782</td>\n",
       "      <td>400.0</td>\n",
       "      <td>15</td>\n",
       "      <td>255</td>\n",
       "      <td>704</td>\n",
       "      <td>444</td>\n",
       "    </tr>\n",
       "    <tr>\n",
       "      <th>14</th>\n",
       "      <td>NaN</td>\n",
       "      <td>90.0</td>\n",
       "      <td>150</td>\n",
       "      <td>0</td>\n",
       "      <td>0</td>\n",
       "      <td>204</td>\n",
       "    </tr>\n",
       "    <tr>\n",
       "      <th>15</th>\n",
       "      <td>AP2443797</td>\n",
       "      <td>0.0</td>\n",
       "      <td>25</td>\n",
       "      <td>0</td>\n",
       "      <td>72</td>\n",
       "      <td>48</td>\n",
       "    </tr>\n",
       "    <tr>\n",
       "      <th>16</th>\n",
       "      <td>AP0036951</td>\n",
       "      <td>330.0</td>\n",
       "      <td>525</td>\n",
       "      <td>0</td>\n",
       "      <td>0</td>\n",
       "      <td>0</td>\n",
       "    </tr>\n",
       "    <tr>\n",
       "      <th>17</th>\n",
       "      <td>AP3200230</td>\n",
       "      <td>0.0</td>\n",
       "      <td>135</td>\n",
       "      <td>0</td>\n",
       "      <td>0</td>\n",
       "      <td>0</td>\n",
       "    </tr>\n",
       "    <tr>\n",
       "      <th>18</th>\n",
       "      <td>AP0139724</td>\n",
       "      <td>0.0</td>\n",
       "      <td>85</td>\n",
       "      <td>360</td>\n",
       "      <td>0</td>\n",
       "      <td>480</td>\n",
       "    </tr>\n",
       "    <tr>\n",
       "      <th>19</th>\n",
       "      <td>AP2166075</td>\n",
       "      <td>0.0</td>\n",
       "      <td>70</td>\n",
       "      <td>0</td>\n",
       "      <td>0</td>\n",
       "      <td>36</td>\n",
       "    </tr>\n",
       "    <tr>\n",
       "      <th>20</th>\n",
       "      <td>NaN</td>\n",
       "      <td>0.0</td>\n",
       "      <td>20</td>\n",
       "      <td>0</td>\n",
       "      <td>0</td>\n",
       "      <td>48</td>\n",
       "    </tr>\n",
       "    <tr>\n",
       "      <th>21</th>\n",
       "      <td>AP1332969</td>\n",
       "      <td>90.0</td>\n",
       "      <td>870</td>\n",
       "      <td>0</td>\n",
       "      <td>88</td>\n",
       "      <td>24</td>\n",
       "    </tr>\n",
       "    <tr>\n",
       "      <th>22</th>\n",
       "      <td>AP2130355</td>\n",
       "      <td>160.0</td>\n",
       "      <td>145</td>\n",
       "      <td>0</td>\n",
       "      <td>0</td>\n",
       "      <td>180</td>\n",
       "    </tr>\n",
       "    <tr>\n",
       "      <th>23</th>\n",
       "      <td>AP0714887</td>\n",
       "      <td>160.0</td>\n",
       "      <td>780</td>\n",
       "      <td>615</td>\n",
       "      <td>16</td>\n",
       "      <td>2964</td>\n",
       "    </tr>\n",
       "    <tr>\n",
       "      <th>24</th>\n",
       "      <td>AP2214740</td>\n",
       "      <td>0.0</td>\n",
       "      <td>90</td>\n",
       "      <td>0</td>\n",
       "      <td>0</td>\n",
       "      <td>0</td>\n",
       "    </tr>\n",
       "    <tr>\n",
       "      <th>25</th>\n",
       "      <td>AP0857188</td>\n",
       "      <td>0.0</td>\n",
       "      <td>130</td>\n",
       "      <td>0</td>\n",
       "      <td>0</td>\n",
       "      <td>588</td>\n",
       "    </tr>\n",
       "    <tr>\n",
       "      <th>26</th>\n",
       "      <td>NaN</td>\n",
       "      <td>150.0</td>\n",
       "      <td>220</td>\n",
       "      <td>510</td>\n",
       "      <td>32</td>\n",
       "      <td>1128</td>\n",
       "    </tr>\n",
       "    <tr>\n",
       "      <th>27</th>\n",
       "      <td>AP1874350</td>\n",
       "      <td>0.0</td>\n",
       "      <td>0</td>\n",
       "      <td>75</td>\n",
       "      <td>0</td>\n",
       "      <td>0</td>\n",
       "    </tr>\n",
       "    <tr>\n",
       "      <th>28</th>\n",
       "      <td>AP3209293</td>\n",
       "      <td>0.0</td>\n",
       "      <td>55</td>\n",
       "      <td>465</td>\n",
       "      <td>0</td>\n",
       "      <td>0</td>\n",
       "    </tr>\n",
       "    <tr>\n",
       "      <th>29</th>\n",
       "      <td>AP0089696</td>\n",
       "      <td>930.0</td>\n",
       "      <td>250</td>\n",
       "      <td>3435</td>\n",
       "      <td>0</td>\n",
       "      <td>396</td>\n",
       "    </tr>\n",
       "    <tr>\n",
       "      <th>...</th>\n",
       "      <td>...</td>\n",
       "      <td>...</td>\n",
       "      <td>...</td>\n",
       "      <td>...</td>\n",
       "      <td>...</td>\n",
       "      <td>...</td>\n",
       "    </tr>\n",
       "    <tr>\n",
       "      <th>70</th>\n",
       "      <td>AP0683877</td>\n",
       "      <td>50.0</td>\n",
       "      <td>90</td>\n",
       "      <td>240</td>\n",
       "      <td>0</td>\n",
       "      <td>0</td>\n",
       "    </tr>\n",
       "    <tr>\n",
       "      <th>71</th>\n",
       "      <td>AP0118925</td>\n",
       "      <td>160.0</td>\n",
       "      <td>375</td>\n",
       "      <td>0</td>\n",
       "      <td>240</td>\n",
       "      <td>0</td>\n",
       "    </tr>\n",
       "    <tr>\n",
       "      <th>72</th>\n",
       "      <td>AP2152296</td>\n",
       "      <td>0.0</td>\n",
       "      <td>40</td>\n",
       "      <td>0</td>\n",
       "      <td>0</td>\n",
       "      <td>324</td>\n",
       "    </tr>\n",
       "    <tr>\n",
       "      <th>73</th>\n",
       "      <td>AP1343639</td>\n",
       "      <td>10.0</td>\n",
       "      <td>45</td>\n",
       "      <td>0</td>\n",
       "      <td>24</td>\n",
       "      <td>528</td>\n",
       "    </tr>\n",
       "    <tr>\n",
       "      <th>74</th>\n",
       "      <td>AP1869077</td>\n",
       "      <td>1830.0</td>\n",
       "      <td>140</td>\n",
       "      <td>0</td>\n",
       "      <td>488</td>\n",
       "      <td>72</td>\n",
       "    </tr>\n",
       "    <tr>\n",
       "      <th>75</th>\n",
       "      <td>AP2196115</td>\n",
       "      <td>0.0</td>\n",
       "      <td>0</td>\n",
       "      <td>0</td>\n",
       "      <td>0</td>\n",
       "      <td>384</td>\n",
       "    </tr>\n",
       "    <tr>\n",
       "      <th>76</th>\n",
       "      <td>AP1230067</td>\n",
       "      <td>110.0</td>\n",
       "      <td>70</td>\n",
       "      <td>0</td>\n",
       "      <td>0</td>\n",
       "      <td>0</td>\n",
       "    </tr>\n",
       "    <tr>\n",
       "      <th>77</th>\n",
       "      <td>AP2014650</td>\n",
       "      <td>0.0</td>\n",
       "      <td>60</td>\n",
       "      <td>0</td>\n",
       "      <td>0</td>\n",
       "      <td>60</td>\n",
       "    </tr>\n",
       "    <tr>\n",
       "      <th>78</th>\n",
       "      <td>AP2281620</td>\n",
       "      <td>0.0</td>\n",
       "      <td>255</td>\n",
       "      <td>0</td>\n",
       "      <td>0</td>\n",
       "      <td>36</td>\n",
       "    </tr>\n",
       "    <tr>\n",
       "      <th>79</th>\n",
       "      <td>AP1336198</td>\n",
       "      <td>150.0</td>\n",
       "      <td>615</td>\n",
       "      <td>0</td>\n",
       "      <td>0</td>\n",
       "      <td>0</td>\n",
       "    </tr>\n",
       "    <tr>\n",
       "      <th>80</th>\n",
       "      <td>AP0849708</td>\n",
       "      <td>0.0</td>\n",
       "      <td>90</td>\n",
       "      <td>3495</td>\n",
       "      <td>0</td>\n",
       "      <td>0</td>\n",
       "    </tr>\n",
       "    <tr>\n",
       "      <th>81</th>\n",
       "      <td>AP2113896</td>\n",
       "      <td>20.0</td>\n",
       "      <td>30</td>\n",
       "      <td>0</td>\n",
       "      <td>0</td>\n",
       "      <td>0</td>\n",
       "    </tr>\n",
       "    <tr>\n",
       "      <th>82</th>\n",
       "      <td>AP1834639</td>\n",
       "      <td>270.0</td>\n",
       "      <td>1240</td>\n",
       "      <td>60</td>\n",
       "      <td>40</td>\n",
       "      <td>60</td>\n",
       "    </tr>\n",
       "    <tr>\n",
       "      <th>83</th>\n",
       "      <td>AP0455565</td>\n",
       "      <td>0.0</td>\n",
       "      <td>105</td>\n",
       "      <td>810</td>\n",
       "      <td>24</td>\n",
       "      <td>1896</td>\n",
       "    </tr>\n",
       "    <tr>\n",
       "      <th>84</th>\n",
       "      <td>AP0849030</td>\n",
       "      <td>0.0</td>\n",
       "      <td>80</td>\n",
       "      <td>525</td>\n",
       "      <td>0</td>\n",
       "      <td>24</td>\n",
       "    </tr>\n",
       "    <tr>\n",
       "      <th>85</th>\n",
       "      <td>AP0478796</td>\n",
       "      <td>630.0</td>\n",
       "      <td>240</td>\n",
       "      <td>150</td>\n",
       "      <td>0</td>\n",
       "      <td>96</td>\n",
       "    </tr>\n",
       "    <tr>\n",
       "      <th>86</th>\n",
       "      <td>AP3589376</td>\n",
       "      <td>0.0</td>\n",
       "      <td>135</td>\n",
       "      <td>0</td>\n",
       "      <td>0</td>\n",
       "      <td>72</td>\n",
       "    </tr>\n",
       "    <tr>\n",
       "      <th>87</th>\n",
       "      <td>AP2459335</td>\n",
       "      <td>320.0</td>\n",
       "      <td>320</td>\n",
       "      <td>0</td>\n",
       "      <td>256</td>\n",
       "      <td>12</td>\n",
       "    </tr>\n",
       "    <tr>\n",
       "      <th>88</th>\n",
       "      <td>AP0812453</td>\n",
       "      <td>NaN</td>\n",
       "      <td>45</td>\n",
       "      <td>0</td>\n",
       "      <td>0</td>\n",
       "      <td>264</td>\n",
       "    </tr>\n",
       "    <tr>\n",
       "      <th>89</th>\n",
       "      <td>AP0433841</td>\n",
       "      <td>120.0</td>\n",
       "      <td>65</td>\n",
       "      <td>0</td>\n",
       "      <td>0</td>\n",
       "      <td>0</td>\n",
       "    </tr>\n",
       "    <tr>\n",
       "      <th>90</th>\n",
       "      <td>AP1947403</td>\n",
       "      <td>0.0</td>\n",
       "      <td>240</td>\n",
       "      <td>0</td>\n",
       "      <td>8</td>\n",
       "      <td>156</td>\n",
       "    </tr>\n",
       "    <tr>\n",
       "      <th>91</th>\n",
       "      <td>AP0189854</td>\n",
       "      <td>0.0</td>\n",
       "      <td>70</td>\n",
       "      <td>720</td>\n",
       "      <td>0</td>\n",
       "      <td>0</td>\n",
       "    </tr>\n",
       "    <tr>\n",
       "      <th>92</th>\n",
       "      <td>AP3883979</td>\n",
       "      <td>0.0</td>\n",
       "      <td>255</td>\n",
       "      <td>0</td>\n",
       "      <td>0</td>\n",
       "      <td>132</td>\n",
       "    </tr>\n",
       "    <tr>\n",
       "      <th>93</th>\n",
       "      <td>AP0390218</td>\n",
       "      <td>0.0</td>\n",
       "      <td>105</td>\n",
       "      <td>180</td>\n",
       "      <td>40</td>\n",
       "      <td>0</td>\n",
       "    </tr>\n",
       "    <tr>\n",
       "      <th>94</th>\n",
       "      <td>AP2286280</td>\n",
       "      <td>0.0</td>\n",
       "      <td>0</td>\n",
       "      <td>0</td>\n",
       "      <td>0</td>\n",
       "      <td>144</td>\n",
       "    </tr>\n",
       "    <tr>\n",
       "      <th>95</th>\n",
       "      <td>AP1957774</td>\n",
       "      <td>390.0</td>\n",
       "      <td>15</td>\n",
       "      <td>0</td>\n",
       "      <td>16</td>\n",
       "      <td>36</td>\n",
       "    </tr>\n",
       "    <tr>\n",
       "      <th>96</th>\n",
       "      <td>AP1273998</td>\n",
       "      <td>480.0</td>\n",
       "      <td>630</td>\n",
       "      <td>0</td>\n",
       "      <td>0</td>\n",
       "      <td>0</td>\n",
       "    </tr>\n",
       "    <tr>\n",
       "      <th>97</th>\n",
       "      <td>AP1228990</td>\n",
       "      <td>0.0</td>\n",
       "      <td>0</td>\n",
       "      <td>0</td>\n",
       "      <td>0</td>\n",
       "      <td>180</td>\n",
       "    </tr>\n",
       "    <tr>\n",
       "      <th>98</th>\n",
       "      <td>AP1881803</td>\n",
       "      <td>0.0</td>\n",
       "      <td>10</td>\n",
       "      <td>0</td>\n",
       "      <td>0</td>\n",
       "      <td>0</td>\n",
       "    </tr>\n",
       "    <tr>\n",
       "      <th>99</th>\n",
       "      <td>AP4772804</td>\n",
       "      <td>10.0</td>\n",
       "      <td>0</td>\n",
       "      <td>0</td>\n",
       "      <td>0</td>\n",
       "      <td>0</td>\n",
       "    </tr>\n",
       "  </tbody>\n",
       "</table>\n",
       "<p>100 rows × 6 columns</p>\n",
       "</div>"
      ],
      "text/plain": [
       "    PHYSICIAN  CroMax_RX  GlycoMax_RX  AllergyMax_RX  FevMax_RX  ColdMax_RX\n",
       "0   AP1912920        0.0           50            510        152           0\n",
       "1   AP1350415     2370.0         1320             60       1416        2676\n",
       "2   AP0129322        0.0           85              0          0         144\n",
       "3   AP0462902       30.0          570              0        128        3900\n",
       "4   AP3185026        0.0           40           1080          0           0\n",
       "5   AP3674571       70.0           40              0         64           0\n",
       "6   AP0126982        0.0          135              0          0           0\n",
       "7         NaN      150.0          315            270        184          36\n",
       "8   AP1807651        0.0          650              0          0         300\n",
       "9   AP0728371        0.0            0              0          0           0\n",
       "10  AP1934892      640.0          390              0        280           0\n",
       "11  AP1595288      160.0           35             45          0           0\n",
       "12  AP1883103        0.0          225            240          0           0\n",
       "13  AP1365782      400.0           15            255        704         444\n",
       "14        NaN       90.0          150              0          0         204\n",
       "15  AP2443797        0.0           25              0         72          48\n",
       "16  AP0036951      330.0          525              0          0           0\n",
       "17  AP3200230        0.0          135              0          0           0\n",
       "18  AP0139724        0.0           85            360          0         480\n",
       "19  AP2166075        0.0           70              0          0          36\n",
       "20        NaN        0.0           20              0          0          48\n",
       "21  AP1332969       90.0          870              0         88          24\n",
       "22  AP2130355      160.0          145              0          0         180\n",
       "23  AP0714887      160.0          780            615         16        2964\n",
       "24  AP2214740        0.0           90              0          0           0\n",
       "25  AP0857188        0.0          130              0          0         588\n",
       "26        NaN      150.0          220            510         32        1128\n",
       "27  AP1874350        0.0            0             75          0           0\n",
       "28  AP3209293        0.0           55            465          0           0\n",
       "29  AP0089696      930.0          250           3435          0         396\n",
       "..        ...        ...          ...            ...        ...         ...\n",
       "70  AP0683877       50.0           90            240          0           0\n",
       "71  AP0118925      160.0          375              0        240           0\n",
       "72  AP2152296        0.0           40              0          0         324\n",
       "73  AP1343639       10.0           45              0         24         528\n",
       "74  AP1869077     1830.0          140              0        488          72\n",
       "75  AP2196115        0.0            0              0          0         384\n",
       "76  AP1230067      110.0           70              0          0           0\n",
       "77  AP2014650        0.0           60              0          0          60\n",
       "78  AP2281620        0.0          255              0          0          36\n",
       "79  AP1336198      150.0          615              0          0           0\n",
       "80  AP0849708        0.0           90           3495          0           0\n",
       "81  AP2113896       20.0           30              0          0           0\n",
       "82  AP1834639      270.0         1240             60         40          60\n",
       "83  AP0455565        0.0          105            810         24        1896\n",
       "84  AP0849030        0.0           80            525          0          24\n",
       "85  AP0478796      630.0          240            150          0          96\n",
       "86  AP3589376        0.0          135              0          0          72\n",
       "87  AP2459335      320.0          320              0        256          12\n",
       "88  AP0812453        NaN           45              0          0         264\n",
       "89  AP0433841      120.0           65              0          0           0\n",
       "90  AP1947403        0.0          240              0          8         156\n",
       "91  AP0189854        0.0           70            720          0           0\n",
       "92  AP3883979        0.0          255              0          0         132\n",
       "93  AP0390218        0.0          105            180         40           0\n",
       "94  AP2286280        0.0            0              0          0         144\n",
       "95  AP1957774      390.0           15              0         16          36\n",
       "96  AP1273998      480.0          630              0          0           0\n",
       "97  AP1228990        0.0            0              0          0         180\n",
       "98  AP1881803        0.0           10              0          0           0\n",
       "99  AP4772804       10.0            0              0          0           0\n",
       "\n",
       "[100 rows x 6 columns]"
      ]
     },
     "execution_count": 181,
     "metadata": {},
     "output_type": "execute_result"
    }
   ],
   "source": [
    "df"
   ]
  },
  {
   "cell_type": "code",
   "execution_count": 183,
   "metadata": {},
   "outputs": [
    {
     "data": {
      "text/plain": [
       "PHYSICIAN         object\n",
       "CroMax_RX        float64\n",
       "GlycoMax_RX        int64\n",
       "AllergyMax_RX      int64\n",
       "FevMax_RX          int64\n",
       "ColdMax_RX         int64\n",
       "dtype: object"
      ]
     },
     "execution_count": 183,
     "metadata": {},
     "output_type": "execute_result"
    }
   ],
   "source": [
    "df.dtypes #object is string"
   ]
  },
  {
   "cell_type": "code",
   "execution_count": 196,
   "metadata": {},
   "outputs": [
    {
     "data": {
      "text/html": [
       "<div>\n",
       "<style scoped>\n",
       "    .dataframe tbody tr th:only-of-type {\n",
       "        vertical-align: middle;\n",
       "    }\n",
       "\n",
       "    .dataframe tbody tr th {\n",
       "        vertical-align: top;\n",
       "    }\n",
       "\n",
       "    .dataframe thead th {\n",
       "        text-align: right;\n",
       "    }\n",
       "</style>\n",
       "<table border=\"1\" class=\"dataframe\">\n",
       "  <thead>\n",
       "    <tr style=\"text-align: right;\">\n",
       "      <th></th>\n",
       "      <th>PHYSICIAN</th>\n",
       "      <th>AllergyMax_RX</th>\n",
       "      <th>CroMax_RX</th>\n",
       "    </tr>\n",
       "  </thead>\n",
       "  <tbody>\n",
       "    <tr>\n",
       "      <th>0</th>\n",
       "      <td>AP1912920</td>\n",
       "      <td>510</td>\n",
       "      <td>0.0</td>\n",
       "    </tr>\n",
       "    <tr>\n",
       "      <th>1</th>\n",
       "      <td>AP1350415</td>\n",
       "      <td>60</td>\n",
       "      <td>2370.0</td>\n",
       "    </tr>\n",
       "    <tr>\n",
       "      <th>2</th>\n",
       "      <td>AP0129322</td>\n",
       "      <td>0</td>\n",
       "      <td>0.0</td>\n",
       "    </tr>\n",
       "    <tr>\n",
       "      <th>3</th>\n",
       "      <td>AP0462902</td>\n",
       "      <td>0</td>\n",
       "      <td>30.0</td>\n",
       "    </tr>\n",
       "  </tbody>\n",
       "</table>\n",
       "</div>"
      ],
      "text/plain": [
       "   PHYSICIAN  AllergyMax_RX  CroMax_RX\n",
       "0  AP1912920            510        0.0\n",
       "1  AP1350415             60     2370.0\n",
       "2  AP0129322              0        0.0\n",
       "3  AP0462902              0       30.0"
      ]
     },
     "execution_count": 196,
     "metadata": {},
     "output_type": "execute_result"
    }
   ],
   "source": [
    "df[[\"PHYSICIAN\",\"AllergyMax_RX\",\"CroMax_RX\"]][0:4] #works on index[0:4]"
   ]
  },
  {
   "cell_type": "code",
   "execution_count": 197,
   "metadata": {},
   "outputs": [
    {
     "data": {
      "text/plain": [
       "0     AP1912920\n",
       "1     AP1350415\n",
       "2     AP0129322\n",
       "3     AP0462902\n",
       "4     AP3185026\n",
       "5     AP3674571\n",
       "6     AP0126982\n",
       "7           NaN\n",
       "8     AP1807651\n",
       "9     AP0728371\n",
       "10    AP1934892\n",
       "11    AP1595288\n",
       "12    AP1883103\n",
       "13    AP1365782\n",
       "14          NaN\n",
       "15    AP2443797\n",
       "16    AP0036951\n",
       "17    AP3200230\n",
       "18    AP0139724\n",
       "19    AP2166075\n",
       "20          NaN\n",
       "21    AP1332969\n",
       "22    AP2130355\n",
       "23    AP0714887\n",
       "24    AP2214740\n",
       "25    AP0857188\n",
       "26          NaN\n",
       "27    AP1874350\n",
       "28    AP3209293\n",
       "29    AP0089696\n",
       "        ...    \n",
       "70    AP0683877\n",
       "71    AP0118925\n",
       "72    AP2152296\n",
       "73    AP1343639\n",
       "74    AP1869077\n",
       "75    AP2196115\n",
       "76    AP1230067\n",
       "77    AP2014650\n",
       "78    AP2281620\n",
       "79    AP1336198\n",
       "80    AP0849708\n",
       "81    AP2113896\n",
       "82    AP1834639\n",
       "83    AP0455565\n",
       "84    AP0849030\n",
       "85    AP0478796\n",
       "86    AP3589376\n",
       "87    AP2459335\n",
       "88    AP0812453\n",
       "89    AP0433841\n",
       "90    AP1947403\n",
       "91    AP0189854\n",
       "92    AP3883979\n",
       "93    AP0390218\n",
       "94    AP2286280\n",
       "95    AP1957774\n",
       "96    AP1273998\n",
       "97    AP1228990\n",
       "98    AP1881803\n",
       "99    AP4772804\n",
       "Name: PHYSICIAN, Length: 100, dtype: object"
      ]
     },
     "execution_count": 197,
     "metadata": {},
     "output_type": "execute_result"
    }
   ],
   "source": [
    "df[\"PHYSICIAN\"]  "
   ]
  },
  {
   "cell_type": "code",
   "execution_count": 198,
   "metadata": {},
   "outputs": [
    {
     "data": {
      "text/html": [
       "<div>\n",
       "<style scoped>\n",
       "    .dataframe tbody tr th:only-of-type {\n",
       "        vertical-align: middle;\n",
       "    }\n",
       "\n",
       "    .dataframe tbody tr th {\n",
       "        vertical-align: top;\n",
       "    }\n",
       "\n",
       "    .dataframe thead th {\n",
       "        text-align: right;\n",
       "    }\n",
       "</style>\n",
       "<table border=\"1\" class=\"dataframe\">\n",
       "  <thead>\n",
       "    <tr style=\"text-align: right;\">\n",
       "      <th></th>\n",
       "      <th>PHYSICIAN</th>\n",
       "      <th>AllergyMax_RX</th>\n",
       "    </tr>\n",
       "  </thead>\n",
       "  <tbody>\n",
       "    <tr>\n",
       "      <th>0</th>\n",
       "      <td>AP1912920</td>\n",
       "      <td>510</td>\n",
       "    </tr>\n",
       "    <tr>\n",
       "      <th>1</th>\n",
       "      <td>AP1350415</td>\n",
       "      <td>60</td>\n",
       "    </tr>\n",
       "    <tr>\n",
       "      <th>2</th>\n",
       "      <td>AP0129322</td>\n",
       "      <td>0</td>\n",
       "    </tr>\n",
       "    <tr>\n",
       "      <th>3</th>\n",
       "      <td>AP0462902</td>\n",
       "      <td>0</td>\n",
       "    </tr>\n",
       "    <tr>\n",
       "      <th>4</th>\n",
       "      <td>AP3185026</td>\n",
       "      <td>1080</td>\n",
       "    </tr>\n",
       "  </tbody>\n",
       "</table>\n",
       "</div>"
      ],
      "text/plain": [
       "   PHYSICIAN  AllergyMax_RX\n",
       "0  AP1912920            510\n",
       "1  AP1350415             60\n",
       "2  AP0129322              0\n",
       "3  AP0462902              0\n",
       "4  AP3185026           1080"
      ]
     },
     "execution_count": 198,
     "metadata": {},
     "output_type": "execute_result"
    }
   ],
   "source": [
    "df.loc[0:4,[\"PHYSICIAN\",\"AllergyMax_RX\"]] #works on label[0:4]"
   ]
  },
  {
   "cell_type": "code",
   "execution_count": 199,
   "metadata": {},
   "outputs": [
    {
     "data": {
      "text/html": [
       "<div>\n",
       "<style scoped>\n",
       "    .dataframe tbody tr th:only-of-type {\n",
       "        vertical-align: middle;\n",
       "    }\n",
       "\n",
       "    .dataframe tbody tr th {\n",
       "        vertical-align: top;\n",
       "    }\n",
       "\n",
       "    .dataframe thead th {\n",
       "        text-align: right;\n",
       "    }\n",
       "</style>\n",
       "<table border=\"1\" class=\"dataframe\">\n",
       "  <thead>\n",
       "    <tr style=\"text-align: right;\">\n",
       "      <th></th>\n",
       "      <th>PHYSICIAN</th>\n",
       "      <th>CroMax_RX</th>\n",
       "      <th>GlycoMax_RX</th>\n",
       "    </tr>\n",
       "  </thead>\n",
       "  <tbody>\n",
       "    <tr>\n",
       "      <th>0</th>\n",
       "      <td>AP1912920</td>\n",
       "      <td>0.0</td>\n",
       "      <td>50</td>\n",
       "    </tr>\n",
       "    <tr>\n",
       "      <th>1</th>\n",
       "      <td>AP1350415</td>\n",
       "      <td>2370.0</td>\n",
       "      <td>1320</td>\n",
       "    </tr>\n",
       "    <tr>\n",
       "      <th>2</th>\n",
       "      <td>AP0129322</td>\n",
       "      <td>0.0</td>\n",
       "      <td>85</td>\n",
       "    </tr>\n",
       "    <tr>\n",
       "      <th>3</th>\n",
       "      <td>AP0462902</td>\n",
       "      <td>30.0</td>\n",
       "      <td>570</td>\n",
       "    </tr>\n",
       "  </tbody>\n",
       "</table>\n",
       "</div>"
      ],
      "text/plain": [
       "   PHYSICIAN  CroMax_RX  GlycoMax_RX\n",
       "0  AP1912920        0.0           50\n",
       "1  AP1350415     2370.0         1320\n",
       "2  AP0129322        0.0           85\n",
       "3  AP0462902       30.0          570"
      ]
     },
     "execution_count": 199,
     "metadata": {},
     "output_type": "execute_result"
    }
   ],
   "source": [
    "df.iloc[0:4,0:3]   #works on index[0:4]"
   ]
  },
  {
   "cell_type": "code",
   "execution_count": 208,
   "metadata": {},
   "outputs": [
    {
     "data": {
      "text/html": [
       "<div>\n",
       "<style scoped>\n",
       "    .dataframe tbody tr th:only-of-type {\n",
       "        vertical-align: middle;\n",
       "    }\n",
       "\n",
       "    .dataframe tbody tr th {\n",
       "        vertical-align: top;\n",
       "    }\n",
       "\n",
       "    .dataframe thead th {\n",
       "        text-align: right;\n",
       "    }\n",
       "</style>\n",
       "<table border=\"1\" class=\"dataframe\">\n",
       "  <thead>\n",
       "    <tr style=\"text-align: right;\">\n",
       "      <th></th>\n",
       "      <th>PHYSICIAN</th>\n",
       "      <th>CroMax_RX</th>\n",
       "      <th>GlycoMax_RX</th>\n",
       "      <th>AllergyMax_RX</th>\n",
       "      <th>FevMax_RX</th>\n",
       "      <th>ColdMax_RX</th>\n",
       "    </tr>\n",
       "  </thead>\n",
       "  <tbody>\n",
       "    <tr>\n",
       "      <th>1</th>\n",
       "      <td>AP1350415</td>\n",
       "      <td>2370.0</td>\n",
       "      <td>1320</td>\n",
       "      <td>60</td>\n",
       "      <td>1416</td>\n",
       "      <td>2676</td>\n",
       "    </tr>\n",
       "    <tr>\n",
       "      <th>5</th>\n",
       "      <td>AP3674571</td>\n",
       "      <td>70.0</td>\n",
       "      <td>40</td>\n",
       "      <td>0</td>\n",
       "      <td>64</td>\n",
       "      <td>0</td>\n",
       "    </tr>\n",
       "    <tr>\n",
       "      <th>7</th>\n",
       "      <td>NaN</td>\n",
       "      <td>150.0</td>\n",
       "      <td>315</td>\n",
       "      <td>270</td>\n",
       "      <td>184</td>\n",
       "      <td>36</td>\n",
       "    </tr>\n",
       "    <tr>\n",
       "      <th>10</th>\n",
       "      <td>AP1934892</td>\n",
       "      <td>640.0</td>\n",
       "      <td>390</td>\n",
       "      <td>0</td>\n",
       "      <td>280</td>\n",
       "      <td>0</td>\n",
       "    </tr>\n",
       "    <tr>\n",
       "      <th>11</th>\n",
       "      <td>AP1595288</td>\n",
       "      <td>160.0</td>\n",
       "      <td>35</td>\n",
       "      <td>45</td>\n",
       "      <td>0</td>\n",
       "      <td>0</td>\n",
       "    </tr>\n",
       "    <tr>\n",
       "      <th>13</th>\n",
       "      <td>AP1365782</td>\n",
       "      <td>400.0</td>\n",
       "      <td>15</td>\n",
       "      <td>255</td>\n",
       "      <td>704</td>\n",
       "      <td>444</td>\n",
       "    </tr>\n",
       "    <tr>\n",
       "      <th>14</th>\n",
       "      <td>NaN</td>\n",
       "      <td>90.0</td>\n",
       "      <td>150</td>\n",
       "      <td>0</td>\n",
       "      <td>0</td>\n",
       "      <td>204</td>\n",
       "    </tr>\n",
       "    <tr>\n",
       "      <th>16</th>\n",
       "      <td>AP0036951</td>\n",
       "      <td>330.0</td>\n",
       "      <td>525</td>\n",
       "      <td>0</td>\n",
       "      <td>0</td>\n",
       "      <td>0</td>\n",
       "    </tr>\n",
       "    <tr>\n",
       "      <th>21</th>\n",
       "      <td>AP1332969</td>\n",
       "      <td>90.0</td>\n",
       "      <td>870</td>\n",
       "      <td>0</td>\n",
       "      <td>88</td>\n",
       "      <td>24</td>\n",
       "    </tr>\n",
       "    <tr>\n",
       "      <th>22</th>\n",
       "      <td>AP2130355</td>\n",
       "      <td>160.0</td>\n",
       "      <td>145</td>\n",
       "      <td>0</td>\n",
       "      <td>0</td>\n",
       "      <td>180</td>\n",
       "    </tr>\n",
       "    <tr>\n",
       "      <th>23</th>\n",
       "      <td>AP0714887</td>\n",
       "      <td>160.0</td>\n",
       "      <td>780</td>\n",
       "      <td>615</td>\n",
       "      <td>16</td>\n",
       "      <td>2964</td>\n",
       "    </tr>\n",
       "    <tr>\n",
       "      <th>26</th>\n",
       "      <td>NaN</td>\n",
       "      <td>150.0</td>\n",
       "      <td>220</td>\n",
       "      <td>510</td>\n",
       "      <td>32</td>\n",
       "      <td>1128</td>\n",
       "    </tr>\n",
       "    <tr>\n",
       "      <th>29</th>\n",
       "      <td>AP0089696</td>\n",
       "      <td>930.0</td>\n",
       "      <td>250</td>\n",
       "      <td>3435</td>\n",
       "      <td>0</td>\n",
       "      <td>396</td>\n",
       "    </tr>\n",
       "    <tr>\n",
       "      <th>31</th>\n",
       "      <td>AP0692473</td>\n",
       "      <td>90.0</td>\n",
       "      <td>215</td>\n",
       "      <td>375</td>\n",
       "      <td>0</td>\n",
       "      <td>348</td>\n",
       "    </tr>\n",
       "    <tr>\n",
       "      <th>40</th>\n",
       "      <td>AP0438309</td>\n",
       "      <td>370.0</td>\n",
       "      <td>85</td>\n",
       "      <td>0</td>\n",
       "      <td>0</td>\n",
       "      <td>780</td>\n",
       "    </tr>\n",
       "    <tr>\n",
       "      <th>42</th>\n",
       "      <td>AP1326350</td>\n",
       "      <td>80.0</td>\n",
       "      <td>250</td>\n",
       "      <td>690</td>\n",
       "      <td>128</td>\n",
       "      <td>48</td>\n",
       "    </tr>\n",
       "    <tr>\n",
       "      <th>53</th>\n",
       "      <td>AP1976314</td>\n",
       "      <td>170.0</td>\n",
       "      <td>495</td>\n",
       "      <td>0</td>\n",
       "      <td>200</td>\n",
       "      <td>24</td>\n",
       "    </tr>\n",
       "    <tr>\n",
       "      <th>55</th>\n",
       "      <td>AP3632706</td>\n",
       "      <td>140.0</td>\n",
       "      <td>380</td>\n",
       "      <td>165</td>\n",
       "      <td>32</td>\n",
       "      <td>0</td>\n",
       "    </tr>\n",
       "    <tr>\n",
       "      <th>56</th>\n",
       "      <td>AP1871832</td>\n",
       "      <td>140.0</td>\n",
       "      <td>345</td>\n",
       "      <td>0</td>\n",
       "      <td>0</td>\n",
       "      <td>36</td>\n",
       "    </tr>\n",
       "    <tr>\n",
       "      <th>57</th>\n",
       "      <td>AP0092627</td>\n",
       "      <td>1360.0</td>\n",
       "      <td>1090</td>\n",
       "      <td>210</td>\n",
       "      <td>24</td>\n",
       "      <td>192</td>\n",
       "    </tr>\n",
       "    <tr>\n",
       "      <th>59</th>\n",
       "      <td>AP1815618</td>\n",
       "      <td>140.0</td>\n",
       "      <td>110</td>\n",
       "      <td>0</td>\n",
       "      <td>24</td>\n",
       "      <td>0</td>\n",
       "    </tr>\n",
       "    <tr>\n",
       "      <th>64</th>\n",
       "      <td>AP0093884</td>\n",
       "      <td>80.0</td>\n",
       "      <td>65</td>\n",
       "      <td>1365</td>\n",
       "      <td>0</td>\n",
       "      <td>0</td>\n",
       "    </tr>\n",
       "    <tr>\n",
       "      <th>67</th>\n",
       "      <td>AP0476079</td>\n",
       "      <td>80.0</td>\n",
       "      <td>70</td>\n",
       "      <td>75</td>\n",
       "      <td>0</td>\n",
       "      <td>0</td>\n",
       "    </tr>\n",
       "    <tr>\n",
       "      <th>68</th>\n",
       "      <td>AP1822470</td>\n",
       "      <td>120.0</td>\n",
       "      <td>330</td>\n",
       "      <td>1200</td>\n",
       "      <td>0</td>\n",
       "      <td>504</td>\n",
       "    </tr>\n",
       "    <tr>\n",
       "      <th>71</th>\n",
       "      <td>AP0118925</td>\n",
       "      <td>160.0</td>\n",
       "      <td>375</td>\n",
       "      <td>0</td>\n",
       "      <td>240</td>\n",
       "      <td>0</td>\n",
       "    </tr>\n",
       "    <tr>\n",
       "      <th>74</th>\n",
       "      <td>AP1869077</td>\n",
       "      <td>1830.0</td>\n",
       "      <td>140</td>\n",
       "      <td>0</td>\n",
       "      <td>488</td>\n",
       "      <td>72</td>\n",
       "    </tr>\n",
       "    <tr>\n",
       "      <th>76</th>\n",
       "      <td>AP1230067</td>\n",
       "      <td>110.0</td>\n",
       "      <td>70</td>\n",
       "      <td>0</td>\n",
       "      <td>0</td>\n",
       "      <td>0</td>\n",
       "    </tr>\n",
       "    <tr>\n",
       "      <th>79</th>\n",
       "      <td>AP1336198</td>\n",
       "      <td>150.0</td>\n",
       "      <td>615</td>\n",
       "      <td>0</td>\n",
       "      <td>0</td>\n",
       "      <td>0</td>\n",
       "    </tr>\n",
       "    <tr>\n",
       "      <th>82</th>\n",
       "      <td>AP1834639</td>\n",
       "      <td>270.0</td>\n",
       "      <td>1240</td>\n",
       "      <td>60</td>\n",
       "      <td>40</td>\n",
       "      <td>60</td>\n",
       "    </tr>\n",
       "    <tr>\n",
       "      <th>85</th>\n",
       "      <td>AP0478796</td>\n",
       "      <td>630.0</td>\n",
       "      <td>240</td>\n",
       "      <td>150</td>\n",
       "      <td>0</td>\n",
       "      <td>96</td>\n",
       "    </tr>\n",
       "    <tr>\n",
       "      <th>87</th>\n",
       "      <td>AP2459335</td>\n",
       "      <td>320.0</td>\n",
       "      <td>320</td>\n",
       "      <td>0</td>\n",
       "      <td>256</td>\n",
       "      <td>12</td>\n",
       "    </tr>\n",
       "    <tr>\n",
       "      <th>89</th>\n",
       "      <td>AP0433841</td>\n",
       "      <td>120.0</td>\n",
       "      <td>65</td>\n",
       "      <td>0</td>\n",
       "      <td>0</td>\n",
       "      <td>0</td>\n",
       "    </tr>\n",
       "    <tr>\n",
       "      <th>95</th>\n",
       "      <td>AP1957774</td>\n",
       "      <td>390.0</td>\n",
       "      <td>15</td>\n",
       "      <td>0</td>\n",
       "      <td>16</td>\n",
       "      <td>36</td>\n",
       "    </tr>\n",
       "    <tr>\n",
       "      <th>96</th>\n",
       "      <td>AP1273998</td>\n",
       "      <td>480.0</td>\n",
       "      <td>630</td>\n",
       "      <td>0</td>\n",
       "      <td>0</td>\n",
       "      <td>0</td>\n",
       "    </tr>\n",
       "  </tbody>\n",
       "</table>\n",
       "</div>"
      ],
      "text/plain": [
       "    PHYSICIAN  CroMax_RX  GlycoMax_RX  AllergyMax_RX  FevMax_RX  ColdMax_RX\n",
       "1   AP1350415     2370.0         1320             60       1416        2676\n",
       "5   AP3674571       70.0           40              0         64           0\n",
       "7         NaN      150.0          315            270        184          36\n",
       "10  AP1934892      640.0          390              0        280           0\n",
       "11  AP1595288      160.0           35             45          0           0\n",
       "13  AP1365782      400.0           15            255        704         444\n",
       "14        NaN       90.0          150              0          0         204\n",
       "16  AP0036951      330.0          525              0          0           0\n",
       "21  AP1332969       90.0          870              0         88          24\n",
       "22  AP2130355      160.0          145              0          0         180\n",
       "23  AP0714887      160.0          780            615         16        2964\n",
       "26        NaN      150.0          220            510         32        1128\n",
       "29  AP0089696      930.0          250           3435          0         396\n",
       "31  AP0692473       90.0          215            375          0         348\n",
       "40  AP0438309      370.0           85              0          0         780\n",
       "42  AP1326350       80.0          250            690        128          48\n",
       "53  AP1976314      170.0          495              0        200          24\n",
       "55  AP3632706      140.0          380            165         32           0\n",
       "56  AP1871832      140.0          345              0          0          36\n",
       "57  AP0092627     1360.0         1090            210         24         192\n",
       "59  AP1815618      140.0          110              0         24           0\n",
       "64  AP0093884       80.0           65           1365          0           0\n",
       "67  AP0476079       80.0           70             75          0           0\n",
       "68  AP1822470      120.0          330           1200          0         504\n",
       "71  AP0118925      160.0          375              0        240           0\n",
       "74  AP1869077     1830.0          140              0        488          72\n",
       "76  AP1230067      110.0           70              0          0           0\n",
       "79  AP1336198      150.0          615              0          0           0\n",
       "82  AP1834639      270.0         1240             60         40          60\n",
       "85  AP0478796      630.0          240            150          0          96\n",
       "87  AP2459335      320.0          320              0        256          12\n",
       "89  AP0433841      120.0           65              0          0           0\n",
       "95  AP1957774      390.0           15              0         16          36\n",
       "96  AP1273998      480.0          630              0          0           0"
      ]
     },
     "execution_count": 208,
     "metadata": {},
     "output_type": "execute_result"
    }
   ],
   "source": [
    "df[df[\"CroMax_RX\"] > 50]"
   ]
  },
  {
   "cell_type": "code",
   "execution_count": 209,
   "metadata": {},
   "outputs": [],
   "source": [
    " my_df=df[df[\"CroMax_RX\"] > 50]"
   ]
  },
  {
   "cell_type": "code",
   "execution_count": 207,
   "metadata": {},
   "outputs": [
    {
     "data": {
      "text/html": [
       "<div>\n",
       "<style scoped>\n",
       "    .dataframe tbody tr th:only-of-type {\n",
       "        vertical-align: middle;\n",
       "    }\n",
       "\n",
       "    .dataframe tbody tr th {\n",
       "        vertical-align: top;\n",
       "    }\n",
       "\n",
       "    .dataframe thead th {\n",
       "        text-align: right;\n",
       "    }\n",
       "</style>\n",
       "<table border=\"1\" class=\"dataframe\">\n",
       "  <thead>\n",
       "    <tr style=\"text-align: right;\">\n",
       "      <th></th>\n",
       "      <th>PHYSICIAN</th>\n",
       "      <th>CroMax_RX</th>\n",
       "      <th>GlycoMax_RX</th>\n",
       "      <th>AllergyMax_RX</th>\n",
       "      <th>FevMax_RX</th>\n",
       "      <th>ColdMax_RX</th>\n",
       "    </tr>\n",
       "  </thead>\n",
       "  <tbody>\n",
       "    <tr>\n",
       "      <th>1</th>\n",
       "      <td>AP1350415</td>\n",
       "      <td>2370.0</td>\n",
       "      <td>1320</td>\n",
       "      <td>60</td>\n",
       "      <td>1416</td>\n",
       "      <td>2676</td>\n",
       "    </tr>\n",
       "    <tr>\n",
       "      <th>7</th>\n",
       "      <td>NaN</td>\n",
       "      <td>150.0</td>\n",
       "      <td>315</td>\n",
       "      <td>270</td>\n",
       "      <td>184</td>\n",
       "      <td>36</td>\n",
       "    </tr>\n",
       "    <tr>\n",
       "      <th>10</th>\n",
       "      <td>AP1934892</td>\n",
       "      <td>640.0</td>\n",
       "      <td>390</td>\n",
       "      <td>0</td>\n",
       "      <td>280</td>\n",
       "      <td>0</td>\n",
       "    </tr>\n",
       "    <tr>\n",
       "      <th>14</th>\n",
       "      <td>NaN</td>\n",
       "      <td>90.0</td>\n",
       "      <td>150</td>\n",
       "      <td>0</td>\n",
       "      <td>0</td>\n",
       "      <td>204</td>\n",
       "    </tr>\n",
       "    <tr>\n",
       "      <th>16</th>\n",
       "      <td>AP0036951</td>\n",
       "      <td>330.0</td>\n",
       "      <td>525</td>\n",
       "      <td>0</td>\n",
       "      <td>0</td>\n",
       "      <td>0</td>\n",
       "    </tr>\n",
       "    <tr>\n",
       "      <th>21</th>\n",
       "      <td>AP1332969</td>\n",
       "      <td>90.0</td>\n",
       "      <td>870</td>\n",
       "      <td>0</td>\n",
       "      <td>88</td>\n",
       "      <td>24</td>\n",
       "    </tr>\n",
       "    <tr>\n",
       "      <th>22</th>\n",
       "      <td>AP2130355</td>\n",
       "      <td>160.0</td>\n",
       "      <td>145</td>\n",
       "      <td>0</td>\n",
       "      <td>0</td>\n",
       "      <td>180</td>\n",
       "    </tr>\n",
       "    <tr>\n",
       "      <th>23</th>\n",
       "      <td>AP0714887</td>\n",
       "      <td>160.0</td>\n",
       "      <td>780</td>\n",
       "      <td>615</td>\n",
       "      <td>16</td>\n",
       "      <td>2964</td>\n",
       "    </tr>\n",
       "    <tr>\n",
       "      <th>26</th>\n",
       "      <td>NaN</td>\n",
       "      <td>150.0</td>\n",
       "      <td>220</td>\n",
       "      <td>510</td>\n",
       "      <td>32</td>\n",
       "      <td>1128</td>\n",
       "    </tr>\n",
       "    <tr>\n",
       "      <th>29</th>\n",
       "      <td>AP0089696</td>\n",
       "      <td>930.0</td>\n",
       "      <td>250</td>\n",
       "      <td>3435</td>\n",
       "      <td>0</td>\n",
       "      <td>396</td>\n",
       "    </tr>\n",
       "    <tr>\n",
       "      <th>31</th>\n",
       "      <td>AP0692473</td>\n",
       "      <td>90.0</td>\n",
       "      <td>215</td>\n",
       "      <td>375</td>\n",
       "      <td>0</td>\n",
       "      <td>348</td>\n",
       "    </tr>\n",
       "    <tr>\n",
       "      <th>40</th>\n",
       "      <td>AP0438309</td>\n",
       "      <td>370.0</td>\n",
       "      <td>85</td>\n",
       "      <td>0</td>\n",
       "      <td>0</td>\n",
       "      <td>780</td>\n",
       "    </tr>\n",
       "    <tr>\n",
       "      <th>42</th>\n",
       "      <td>AP1326350</td>\n",
       "      <td>80.0</td>\n",
       "      <td>250</td>\n",
       "      <td>690</td>\n",
       "      <td>128</td>\n",
       "      <td>48</td>\n",
       "    </tr>\n",
       "    <tr>\n",
       "      <th>53</th>\n",
       "      <td>AP1976314</td>\n",
       "      <td>170.0</td>\n",
       "      <td>495</td>\n",
       "      <td>0</td>\n",
       "      <td>200</td>\n",
       "      <td>24</td>\n",
       "    </tr>\n",
       "    <tr>\n",
       "      <th>55</th>\n",
       "      <td>AP3632706</td>\n",
       "      <td>140.0</td>\n",
       "      <td>380</td>\n",
       "      <td>165</td>\n",
       "      <td>32</td>\n",
       "      <td>0</td>\n",
       "    </tr>\n",
       "    <tr>\n",
       "      <th>56</th>\n",
       "      <td>AP1871832</td>\n",
       "      <td>140.0</td>\n",
       "      <td>345</td>\n",
       "      <td>0</td>\n",
       "      <td>0</td>\n",
       "      <td>36</td>\n",
       "    </tr>\n",
       "    <tr>\n",
       "      <th>57</th>\n",
       "      <td>AP0092627</td>\n",
       "      <td>1360.0</td>\n",
       "      <td>1090</td>\n",
       "      <td>210</td>\n",
       "      <td>24</td>\n",
       "      <td>192</td>\n",
       "    </tr>\n",
       "    <tr>\n",
       "      <th>59</th>\n",
       "      <td>AP1815618</td>\n",
       "      <td>140.0</td>\n",
       "      <td>110</td>\n",
       "      <td>0</td>\n",
       "      <td>24</td>\n",
       "      <td>0</td>\n",
       "    </tr>\n",
       "    <tr>\n",
       "      <th>64</th>\n",
       "      <td>AP0093884</td>\n",
       "      <td>80.0</td>\n",
       "      <td>65</td>\n",
       "      <td>1365</td>\n",
       "      <td>0</td>\n",
       "      <td>0</td>\n",
       "    </tr>\n",
       "    <tr>\n",
       "      <th>67</th>\n",
       "      <td>AP0476079</td>\n",
       "      <td>80.0</td>\n",
       "      <td>70</td>\n",
       "      <td>75</td>\n",
       "      <td>0</td>\n",
       "      <td>0</td>\n",
       "    </tr>\n",
       "    <tr>\n",
       "      <th>68</th>\n",
       "      <td>AP1822470</td>\n",
       "      <td>120.0</td>\n",
       "      <td>330</td>\n",
       "      <td>1200</td>\n",
       "      <td>0</td>\n",
       "      <td>504</td>\n",
       "    </tr>\n",
       "    <tr>\n",
       "      <th>71</th>\n",
       "      <td>AP0118925</td>\n",
       "      <td>160.0</td>\n",
       "      <td>375</td>\n",
       "      <td>0</td>\n",
       "      <td>240</td>\n",
       "      <td>0</td>\n",
       "    </tr>\n",
       "    <tr>\n",
       "      <th>74</th>\n",
       "      <td>AP1869077</td>\n",
       "      <td>1830.0</td>\n",
       "      <td>140</td>\n",
       "      <td>0</td>\n",
       "      <td>488</td>\n",
       "      <td>72</td>\n",
       "    </tr>\n",
       "    <tr>\n",
       "      <th>76</th>\n",
       "      <td>AP1230067</td>\n",
       "      <td>110.0</td>\n",
       "      <td>70</td>\n",
       "      <td>0</td>\n",
       "      <td>0</td>\n",
       "      <td>0</td>\n",
       "    </tr>\n",
       "    <tr>\n",
       "      <th>79</th>\n",
       "      <td>AP1336198</td>\n",
       "      <td>150.0</td>\n",
       "      <td>615</td>\n",
       "      <td>0</td>\n",
       "      <td>0</td>\n",
       "      <td>0</td>\n",
       "    </tr>\n",
       "    <tr>\n",
       "      <th>82</th>\n",
       "      <td>AP1834639</td>\n",
       "      <td>270.0</td>\n",
       "      <td>1240</td>\n",
       "      <td>60</td>\n",
       "      <td>40</td>\n",
       "      <td>60</td>\n",
       "    </tr>\n",
       "    <tr>\n",
       "      <th>85</th>\n",
       "      <td>AP0478796</td>\n",
       "      <td>630.0</td>\n",
       "      <td>240</td>\n",
       "      <td>150</td>\n",
       "      <td>0</td>\n",
       "      <td>96</td>\n",
       "    </tr>\n",
       "    <tr>\n",
       "      <th>87</th>\n",
       "      <td>AP2459335</td>\n",
       "      <td>320.0</td>\n",
       "      <td>320</td>\n",
       "      <td>0</td>\n",
       "      <td>256</td>\n",
       "      <td>12</td>\n",
       "    </tr>\n",
       "    <tr>\n",
       "      <th>89</th>\n",
       "      <td>AP0433841</td>\n",
       "      <td>120.0</td>\n",
       "      <td>65</td>\n",
       "      <td>0</td>\n",
       "      <td>0</td>\n",
       "      <td>0</td>\n",
       "    </tr>\n",
       "    <tr>\n",
       "      <th>96</th>\n",
       "      <td>AP1273998</td>\n",
       "      <td>480.0</td>\n",
       "      <td>630</td>\n",
       "      <td>0</td>\n",
       "      <td>0</td>\n",
       "      <td>0</td>\n",
       "    </tr>\n",
       "  </tbody>\n",
       "</table>\n",
       "</div>"
      ],
      "text/plain": [
       "    PHYSICIAN  CroMax_RX  GlycoMax_RX  AllergyMax_RX  FevMax_RX  ColdMax_RX\n",
       "1   AP1350415     2370.0         1320             60       1416        2676\n",
       "7         NaN      150.0          315            270        184          36\n",
       "10  AP1934892      640.0          390              0        280           0\n",
       "14        NaN       90.0          150              0          0         204\n",
       "16  AP0036951      330.0          525              0          0           0\n",
       "21  AP1332969       90.0          870              0         88          24\n",
       "22  AP2130355      160.0          145              0          0         180\n",
       "23  AP0714887      160.0          780            615         16        2964\n",
       "26        NaN      150.0          220            510         32        1128\n",
       "29  AP0089696      930.0          250           3435          0         396\n",
       "31  AP0692473       90.0          215            375          0         348\n",
       "40  AP0438309      370.0           85              0          0         780\n",
       "42  AP1326350       80.0          250            690        128          48\n",
       "53  AP1976314      170.0          495              0        200          24\n",
       "55  AP3632706      140.0          380            165         32           0\n",
       "56  AP1871832      140.0          345              0          0          36\n",
       "57  AP0092627     1360.0         1090            210         24         192\n",
       "59  AP1815618      140.0          110              0         24           0\n",
       "64  AP0093884       80.0           65           1365          0           0\n",
       "67  AP0476079       80.0           70             75          0           0\n",
       "68  AP1822470      120.0          330           1200          0         504\n",
       "71  AP0118925      160.0          375              0        240           0\n",
       "74  AP1869077     1830.0          140              0        488          72\n",
       "76  AP1230067      110.0           70              0          0           0\n",
       "79  AP1336198      150.0          615              0          0           0\n",
       "82  AP1834639      270.0         1240             60         40          60\n",
       "85  AP0478796      630.0          240            150          0          96\n",
       "87  AP2459335      320.0          320              0        256          12\n",
       "89  AP0433841      120.0           65              0          0           0\n",
       "96  AP1273998      480.0          630              0          0           0"
      ]
     },
     "execution_count": 207,
     "metadata": {},
     "output_type": "execute_result"
    }
   ],
   "source": [
    "my_df[my_df[\"GlycoMax_RX\"]>50]"
   ]
  },
  {
   "cell_type": "code",
   "execution_count": 210,
   "metadata": {},
   "outputs": [
    {
     "data": {
      "text/plain": [
       "0     False\n",
       "1      True\n",
       "2     False\n",
       "3     False\n",
       "4     False\n",
       "5     False\n",
       "6     False\n",
       "7      True\n",
       "8     False\n",
       "9     False\n",
       "10     True\n",
       "11    False\n",
       "12    False\n",
       "13    False\n",
       "14     True\n",
       "15    False\n",
       "16     True\n",
       "17    False\n",
       "18    False\n",
       "19    False\n",
       "20    False\n",
       "21     True\n",
       "22     True\n",
       "23     True\n",
       "24    False\n",
       "25    False\n",
       "26     True\n",
       "27    False\n",
       "28    False\n",
       "29     True\n",
       "      ...  \n",
       "70    False\n",
       "71     True\n",
       "72    False\n",
       "73    False\n",
       "74     True\n",
       "75    False\n",
       "76     True\n",
       "77    False\n",
       "78    False\n",
       "79     True\n",
       "80    False\n",
       "81    False\n",
       "82     True\n",
       "83    False\n",
       "84    False\n",
       "85     True\n",
       "86    False\n",
       "87     True\n",
       "88    False\n",
       "89     True\n",
       "90    False\n",
       "91    False\n",
       "92    False\n",
       "93    False\n",
       "94    False\n",
       "95    False\n",
       "96     True\n",
       "97    False\n",
       "98    False\n",
       "99    False\n",
       "Length: 100, dtype: bool"
      ]
     },
     "execution_count": 210,
     "metadata": {},
     "output_type": "execute_result"
    }
   ],
   "source": [
    "(df[\"CroMax_RX\"]>50) & (df[\"GlycoMax_RX\"]>50)"
   ]
  },
  {
   "cell_type": "code",
   "execution_count": 213,
   "metadata": {},
   "outputs": [
    {
     "data": {
      "text/html": [
       "<div>\n",
       "<style scoped>\n",
       "    .dataframe tbody tr th:only-of-type {\n",
       "        vertical-align: middle;\n",
       "    }\n",
       "\n",
       "    .dataframe tbody tr th {\n",
       "        vertical-align: top;\n",
       "    }\n",
       "\n",
       "    .dataframe thead th {\n",
       "        text-align: right;\n",
       "    }\n",
       "</style>\n",
       "<table border=\"1\" class=\"dataframe\">\n",
       "  <thead>\n",
       "    <tr style=\"text-align: right;\">\n",
       "      <th></th>\n",
       "      <th>PHYSICIAN</th>\n",
       "      <th>CroMax_RX</th>\n",
       "      <th>GlycoMax_RX</th>\n",
       "      <th>AllergyMax_RX</th>\n",
       "      <th>FevMax_RX</th>\n",
       "      <th>ColdMax_RX</th>\n",
       "    </tr>\n",
       "  </thead>\n",
       "  <tbody>\n",
       "    <tr>\n",
       "      <th>1</th>\n",
       "      <td>AP1350415</td>\n",
       "      <td>2370.0</td>\n",
       "      <td>1320</td>\n",
       "      <td>60</td>\n",
       "      <td>1416</td>\n",
       "      <td>2676</td>\n",
       "    </tr>\n",
       "    <tr>\n",
       "      <th>7</th>\n",
       "      <td>NaN</td>\n",
       "      <td>150.0</td>\n",
       "      <td>315</td>\n",
       "      <td>270</td>\n",
       "      <td>184</td>\n",
       "      <td>36</td>\n",
       "    </tr>\n",
       "    <tr>\n",
       "      <th>10</th>\n",
       "      <td>AP1934892</td>\n",
       "      <td>640.0</td>\n",
       "      <td>390</td>\n",
       "      <td>0</td>\n",
       "      <td>280</td>\n",
       "      <td>0</td>\n",
       "    </tr>\n",
       "    <tr>\n",
       "      <th>14</th>\n",
       "      <td>NaN</td>\n",
       "      <td>90.0</td>\n",
       "      <td>150</td>\n",
       "      <td>0</td>\n",
       "      <td>0</td>\n",
       "      <td>204</td>\n",
       "    </tr>\n",
       "    <tr>\n",
       "      <th>16</th>\n",
       "      <td>AP0036951</td>\n",
       "      <td>330.0</td>\n",
       "      <td>525</td>\n",
       "      <td>0</td>\n",
       "      <td>0</td>\n",
       "      <td>0</td>\n",
       "    </tr>\n",
       "    <tr>\n",
       "      <th>21</th>\n",
       "      <td>AP1332969</td>\n",
       "      <td>90.0</td>\n",
       "      <td>870</td>\n",
       "      <td>0</td>\n",
       "      <td>88</td>\n",
       "      <td>24</td>\n",
       "    </tr>\n",
       "    <tr>\n",
       "      <th>22</th>\n",
       "      <td>AP2130355</td>\n",
       "      <td>160.0</td>\n",
       "      <td>145</td>\n",
       "      <td>0</td>\n",
       "      <td>0</td>\n",
       "      <td>180</td>\n",
       "    </tr>\n",
       "    <tr>\n",
       "      <th>23</th>\n",
       "      <td>AP0714887</td>\n",
       "      <td>160.0</td>\n",
       "      <td>780</td>\n",
       "      <td>615</td>\n",
       "      <td>16</td>\n",
       "      <td>2964</td>\n",
       "    </tr>\n",
       "    <tr>\n",
       "      <th>26</th>\n",
       "      <td>NaN</td>\n",
       "      <td>150.0</td>\n",
       "      <td>220</td>\n",
       "      <td>510</td>\n",
       "      <td>32</td>\n",
       "      <td>1128</td>\n",
       "    </tr>\n",
       "    <tr>\n",
       "      <th>29</th>\n",
       "      <td>AP0089696</td>\n",
       "      <td>930.0</td>\n",
       "      <td>250</td>\n",
       "      <td>3435</td>\n",
       "      <td>0</td>\n",
       "      <td>396</td>\n",
       "    </tr>\n",
       "    <tr>\n",
       "      <th>31</th>\n",
       "      <td>AP0692473</td>\n",
       "      <td>90.0</td>\n",
       "      <td>215</td>\n",
       "      <td>375</td>\n",
       "      <td>0</td>\n",
       "      <td>348</td>\n",
       "    </tr>\n",
       "    <tr>\n",
       "      <th>40</th>\n",
       "      <td>AP0438309</td>\n",
       "      <td>370.0</td>\n",
       "      <td>85</td>\n",
       "      <td>0</td>\n",
       "      <td>0</td>\n",
       "      <td>780</td>\n",
       "    </tr>\n",
       "    <tr>\n",
       "      <th>42</th>\n",
       "      <td>AP1326350</td>\n",
       "      <td>80.0</td>\n",
       "      <td>250</td>\n",
       "      <td>690</td>\n",
       "      <td>128</td>\n",
       "      <td>48</td>\n",
       "    </tr>\n",
       "    <tr>\n",
       "      <th>53</th>\n",
       "      <td>AP1976314</td>\n",
       "      <td>170.0</td>\n",
       "      <td>495</td>\n",
       "      <td>0</td>\n",
       "      <td>200</td>\n",
       "      <td>24</td>\n",
       "    </tr>\n",
       "    <tr>\n",
       "      <th>55</th>\n",
       "      <td>AP3632706</td>\n",
       "      <td>140.0</td>\n",
       "      <td>380</td>\n",
       "      <td>165</td>\n",
       "      <td>32</td>\n",
       "      <td>0</td>\n",
       "    </tr>\n",
       "    <tr>\n",
       "      <th>56</th>\n",
       "      <td>AP1871832</td>\n",
       "      <td>140.0</td>\n",
       "      <td>345</td>\n",
       "      <td>0</td>\n",
       "      <td>0</td>\n",
       "      <td>36</td>\n",
       "    </tr>\n",
       "    <tr>\n",
       "      <th>57</th>\n",
       "      <td>AP0092627</td>\n",
       "      <td>1360.0</td>\n",
       "      <td>1090</td>\n",
       "      <td>210</td>\n",
       "      <td>24</td>\n",
       "      <td>192</td>\n",
       "    </tr>\n",
       "    <tr>\n",
       "      <th>59</th>\n",
       "      <td>AP1815618</td>\n",
       "      <td>140.0</td>\n",
       "      <td>110</td>\n",
       "      <td>0</td>\n",
       "      <td>24</td>\n",
       "      <td>0</td>\n",
       "    </tr>\n",
       "    <tr>\n",
       "      <th>64</th>\n",
       "      <td>AP0093884</td>\n",
       "      <td>80.0</td>\n",
       "      <td>65</td>\n",
       "      <td>1365</td>\n",
       "      <td>0</td>\n",
       "      <td>0</td>\n",
       "    </tr>\n",
       "    <tr>\n",
       "      <th>67</th>\n",
       "      <td>AP0476079</td>\n",
       "      <td>80.0</td>\n",
       "      <td>70</td>\n",
       "      <td>75</td>\n",
       "      <td>0</td>\n",
       "      <td>0</td>\n",
       "    </tr>\n",
       "    <tr>\n",
       "      <th>68</th>\n",
       "      <td>AP1822470</td>\n",
       "      <td>120.0</td>\n",
       "      <td>330</td>\n",
       "      <td>1200</td>\n",
       "      <td>0</td>\n",
       "      <td>504</td>\n",
       "    </tr>\n",
       "    <tr>\n",
       "      <th>71</th>\n",
       "      <td>AP0118925</td>\n",
       "      <td>160.0</td>\n",
       "      <td>375</td>\n",
       "      <td>0</td>\n",
       "      <td>240</td>\n",
       "      <td>0</td>\n",
       "    </tr>\n",
       "    <tr>\n",
       "      <th>74</th>\n",
       "      <td>AP1869077</td>\n",
       "      <td>1830.0</td>\n",
       "      <td>140</td>\n",
       "      <td>0</td>\n",
       "      <td>488</td>\n",
       "      <td>72</td>\n",
       "    </tr>\n",
       "    <tr>\n",
       "      <th>76</th>\n",
       "      <td>AP1230067</td>\n",
       "      <td>110.0</td>\n",
       "      <td>70</td>\n",
       "      <td>0</td>\n",
       "      <td>0</td>\n",
       "      <td>0</td>\n",
       "    </tr>\n",
       "    <tr>\n",
       "      <th>79</th>\n",
       "      <td>AP1336198</td>\n",
       "      <td>150.0</td>\n",
       "      <td>615</td>\n",
       "      <td>0</td>\n",
       "      <td>0</td>\n",
       "      <td>0</td>\n",
       "    </tr>\n",
       "    <tr>\n",
       "      <th>82</th>\n",
       "      <td>AP1834639</td>\n",
       "      <td>270.0</td>\n",
       "      <td>1240</td>\n",
       "      <td>60</td>\n",
       "      <td>40</td>\n",
       "      <td>60</td>\n",
       "    </tr>\n",
       "    <tr>\n",
       "      <th>85</th>\n",
       "      <td>AP0478796</td>\n",
       "      <td>630.0</td>\n",
       "      <td>240</td>\n",
       "      <td>150</td>\n",
       "      <td>0</td>\n",
       "      <td>96</td>\n",
       "    </tr>\n",
       "    <tr>\n",
       "      <th>87</th>\n",
       "      <td>AP2459335</td>\n",
       "      <td>320.0</td>\n",
       "      <td>320</td>\n",
       "      <td>0</td>\n",
       "      <td>256</td>\n",
       "      <td>12</td>\n",
       "    </tr>\n",
       "    <tr>\n",
       "      <th>89</th>\n",
       "      <td>AP0433841</td>\n",
       "      <td>120.0</td>\n",
       "      <td>65</td>\n",
       "      <td>0</td>\n",
       "      <td>0</td>\n",
       "      <td>0</td>\n",
       "    </tr>\n",
       "    <tr>\n",
       "      <th>96</th>\n",
       "      <td>AP1273998</td>\n",
       "      <td>480.0</td>\n",
       "      <td>630</td>\n",
       "      <td>0</td>\n",
       "      <td>0</td>\n",
       "      <td>0</td>\n",
       "    </tr>\n",
       "  </tbody>\n",
       "</table>\n",
       "</div>"
      ],
      "text/plain": [
       "    PHYSICIAN  CroMax_RX  GlycoMax_RX  AllergyMax_RX  FevMax_RX  ColdMax_RX\n",
       "1   AP1350415     2370.0         1320             60       1416        2676\n",
       "7         NaN      150.0          315            270        184          36\n",
       "10  AP1934892      640.0          390              0        280           0\n",
       "14        NaN       90.0          150              0          0         204\n",
       "16  AP0036951      330.0          525              0          0           0\n",
       "21  AP1332969       90.0          870              0         88          24\n",
       "22  AP2130355      160.0          145              0          0         180\n",
       "23  AP0714887      160.0          780            615         16        2964\n",
       "26        NaN      150.0          220            510         32        1128\n",
       "29  AP0089696      930.0          250           3435          0         396\n",
       "31  AP0692473       90.0          215            375          0         348\n",
       "40  AP0438309      370.0           85              0          0         780\n",
       "42  AP1326350       80.0          250            690        128          48\n",
       "53  AP1976314      170.0          495              0        200          24\n",
       "55  AP3632706      140.0          380            165         32           0\n",
       "56  AP1871832      140.0          345              0          0          36\n",
       "57  AP0092627     1360.0         1090            210         24         192\n",
       "59  AP1815618      140.0          110              0         24           0\n",
       "64  AP0093884       80.0           65           1365          0           0\n",
       "67  AP0476079       80.0           70             75          0           0\n",
       "68  AP1822470      120.0          330           1200          0         504\n",
       "71  AP0118925      160.0          375              0        240           0\n",
       "74  AP1869077     1830.0          140              0        488          72\n",
       "76  AP1230067      110.0           70              0          0           0\n",
       "79  AP1336198      150.0          615              0          0           0\n",
       "82  AP1834639      270.0         1240             60         40          60\n",
       "85  AP0478796      630.0          240            150          0          96\n",
       "87  AP2459335      320.0          320              0        256          12\n",
       "89  AP0433841      120.0           65              0          0           0\n",
       "96  AP1273998      480.0          630              0          0           0"
      ]
     },
     "execution_count": 213,
     "metadata": {},
     "output_type": "execute_result"
    }
   ],
   "source": [
    "df[(df[\"CroMax_RX\"]>50) & (df[\"GlycoMax_RX\"]>50)] #for or condition -   |"
   ]
  },
  {
   "cell_type": "code",
   "execution_count": 215,
   "metadata": {},
   "outputs": [
    {
     "data": {
      "text/html": [
       "<div>\n",
       "<style scoped>\n",
       "    .dataframe tbody tr th:only-of-type {\n",
       "        vertical-align: middle;\n",
       "    }\n",
       "\n",
       "    .dataframe tbody tr th {\n",
       "        vertical-align: top;\n",
       "    }\n",
       "\n",
       "    .dataframe thead th {\n",
       "        text-align: right;\n",
       "    }\n",
       "</style>\n",
       "<table border=\"1\" class=\"dataframe\">\n",
       "  <thead>\n",
       "    <tr style=\"text-align: right;\">\n",
       "      <th></th>\n",
       "      <th>PHYSICIAN</th>\n",
       "      <th>GlycoMax_RX</th>\n",
       "    </tr>\n",
       "  </thead>\n",
       "  <tbody>\n",
       "    <tr>\n",
       "      <th>1</th>\n",
       "      <td>AP1350415</td>\n",
       "      <td>1320</td>\n",
       "    </tr>\n",
       "    <tr>\n",
       "      <th>7</th>\n",
       "      <td>NaN</td>\n",
       "      <td>315</td>\n",
       "    </tr>\n",
       "    <tr>\n",
       "      <th>10</th>\n",
       "      <td>AP1934892</td>\n",
       "      <td>390</td>\n",
       "    </tr>\n",
       "    <tr>\n",
       "      <th>14</th>\n",
       "      <td>NaN</td>\n",
       "      <td>150</td>\n",
       "    </tr>\n",
       "    <tr>\n",
       "      <th>16</th>\n",
       "      <td>AP0036951</td>\n",
       "      <td>525</td>\n",
       "    </tr>\n",
       "    <tr>\n",
       "      <th>21</th>\n",
       "      <td>AP1332969</td>\n",
       "      <td>870</td>\n",
       "    </tr>\n",
       "    <tr>\n",
       "      <th>22</th>\n",
       "      <td>AP2130355</td>\n",
       "      <td>145</td>\n",
       "    </tr>\n",
       "    <tr>\n",
       "      <th>23</th>\n",
       "      <td>AP0714887</td>\n",
       "      <td>780</td>\n",
       "    </tr>\n",
       "    <tr>\n",
       "      <th>26</th>\n",
       "      <td>NaN</td>\n",
       "      <td>220</td>\n",
       "    </tr>\n",
       "    <tr>\n",
       "      <th>29</th>\n",
       "      <td>AP0089696</td>\n",
       "      <td>250</td>\n",
       "    </tr>\n",
       "    <tr>\n",
       "      <th>31</th>\n",
       "      <td>AP0692473</td>\n",
       "      <td>215</td>\n",
       "    </tr>\n",
       "    <tr>\n",
       "      <th>40</th>\n",
       "      <td>AP0438309</td>\n",
       "      <td>85</td>\n",
       "    </tr>\n",
       "    <tr>\n",
       "      <th>42</th>\n",
       "      <td>AP1326350</td>\n",
       "      <td>250</td>\n",
       "    </tr>\n",
       "    <tr>\n",
       "      <th>53</th>\n",
       "      <td>AP1976314</td>\n",
       "      <td>495</td>\n",
       "    </tr>\n",
       "    <tr>\n",
       "      <th>55</th>\n",
       "      <td>AP3632706</td>\n",
       "      <td>380</td>\n",
       "    </tr>\n",
       "    <tr>\n",
       "      <th>56</th>\n",
       "      <td>AP1871832</td>\n",
       "      <td>345</td>\n",
       "    </tr>\n",
       "    <tr>\n",
       "      <th>57</th>\n",
       "      <td>AP0092627</td>\n",
       "      <td>1090</td>\n",
       "    </tr>\n",
       "    <tr>\n",
       "      <th>59</th>\n",
       "      <td>AP1815618</td>\n",
       "      <td>110</td>\n",
       "    </tr>\n",
       "    <tr>\n",
       "      <th>64</th>\n",
       "      <td>AP0093884</td>\n",
       "      <td>65</td>\n",
       "    </tr>\n",
       "    <tr>\n",
       "      <th>67</th>\n",
       "      <td>AP0476079</td>\n",
       "      <td>70</td>\n",
       "    </tr>\n",
       "    <tr>\n",
       "      <th>68</th>\n",
       "      <td>AP1822470</td>\n",
       "      <td>330</td>\n",
       "    </tr>\n",
       "    <tr>\n",
       "      <th>71</th>\n",
       "      <td>AP0118925</td>\n",
       "      <td>375</td>\n",
       "    </tr>\n",
       "    <tr>\n",
       "      <th>74</th>\n",
       "      <td>AP1869077</td>\n",
       "      <td>140</td>\n",
       "    </tr>\n",
       "    <tr>\n",
       "      <th>76</th>\n",
       "      <td>AP1230067</td>\n",
       "      <td>70</td>\n",
       "    </tr>\n",
       "    <tr>\n",
       "      <th>79</th>\n",
       "      <td>AP1336198</td>\n",
       "      <td>615</td>\n",
       "    </tr>\n",
       "    <tr>\n",
       "      <th>82</th>\n",
       "      <td>AP1834639</td>\n",
       "      <td>1240</td>\n",
       "    </tr>\n",
       "    <tr>\n",
       "      <th>85</th>\n",
       "      <td>AP0478796</td>\n",
       "      <td>240</td>\n",
       "    </tr>\n",
       "    <tr>\n",
       "      <th>87</th>\n",
       "      <td>AP2459335</td>\n",
       "      <td>320</td>\n",
       "    </tr>\n",
       "    <tr>\n",
       "      <th>89</th>\n",
       "      <td>AP0433841</td>\n",
       "      <td>65</td>\n",
       "    </tr>\n",
       "    <tr>\n",
       "      <th>96</th>\n",
       "      <td>AP1273998</td>\n",
       "      <td>630</td>\n",
       "    </tr>\n",
       "  </tbody>\n",
       "</table>\n",
       "</div>"
      ],
      "text/plain": [
       "    PHYSICIAN  GlycoMax_RX\n",
       "1   AP1350415         1320\n",
       "7         NaN          315\n",
       "10  AP1934892          390\n",
       "14        NaN          150\n",
       "16  AP0036951          525\n",
       "21  AP1332969          870\n",
       "22  AP2130355          145\n",
       "23  AP0714887          780\n",
       "26        NaN          220\n",
       "29  AP0089696          250\n",
       "31  AP0692473          215\n",
       "40  AP0438309           85\n",
       "42  AP1326350          250\n",
       "53  AP1976314          495\n",
       "55  AP3632706          380\n",
       "56  AP1871832          345\n",
       "57  AP0092627         1090\n",
       "59  AP1815618          110\n",
       "64  AP0093884           65\n",
       "67  AP0476079           70\n",
       "68  AP1822470          330\n",
       "71  AP0118925          375\n",
       "74  AP1869077          140\n",
       "76  AP1230067           70\n",
       "79  AP1336198          615\n",
       "82  AP1834639         1240\n",
       "85  AP0478796          240\n",
       "87  AP2459335          320\n",
       "89  AP0433841           65\n",
       "96  AP1273998          630"
      ]
     },
     "execution_count": 215,
     "metadata": {},
     "output_type": "execute_result"
    }
   ],
   "source": [
    "df[(df[\"CroMax_RX\"]>50) & (df[\"GlycoMax_RX\"]>50)][[\"PHYSICIAN\",\"GlycoMax_RX\"]]"
   ]
  },
  {
   "cell_type": "code",
   "execution_count": 216,
   "metadata": {},
   "outputs": [
    {
     "data": {
      "text/plain": [
       "0    AP1912920\n",
       "Name: PHYSICIAN, dtype: object"
      ]
     },
     "execution_count": 216,
     "metadata": {},
     "output_type": "execute_result"
    }
   ],
   "source": [
    "df.iloc[0:1,0]  #DESIGN TO RETURN MULTIPLE SHELL"
   ]
  },
  {
   "cell_type": "code",
   "execution_count": 220,
   "metadata": {},
   "outputs": [
    {
     "data": {
      "text/plain": [
       "'AP1912920'"
      ]
     },
     "execution_count": 220,
     "metadata": {},
     "output_type": "execute_result"
    }
   ],
   "source": [
    "df.iat[0,0] #design to return single shell AND FASTER THAN LOC AND ILOC"
   ]
  },
  {
   "cell_type": "code",
   "execution_count": 219,
   "metadata": {},
   "outputs": [
    {
     "data": {
      "text/plain": [
       "'AP1912920'"
      ]
     },
     "execution_count": 219,
     "metadata": {},
     "output_type": "execute_result"
    }
   ],
   "source": [
    "df.at[0,\"PHYSICIAN\"]"
   ]
  },
  {
   "cell_type": "code",
   "execution_count": 222,
   "metadata": {},
   "outputs": [
    {
     "data": {
      "text/plain": [
       "PHYSICIAN        4\n",
       "CroMax_RX        4\n",
       "GlycoMax_RX      0\n",
       "AllergyMax_RX    0\n",
       "FevMax_RX        0\n",
       "ColdMax_RX       0\n",
       "dtype: int64"
      ]
     },
     "execution_count": 222,
     "metadata": {},
     "output_type": "execute_result"
    }
   ],
   "source": [
    "df.isnull().sum()"
   ]
  },
  {
   "cell_type": "code",
   "execution_count": 223,
   "metadata": {},
   "outputs": [
    {
     "data": {
      "text/plain": [
       "4"
      ]
     },
     "execution_count": 223,
     "metadata": {},
     "output_type": "execute_result"
    }
   ],
   "source": [
    "df[\"CroMax_RX\"].isnull().sum()"
   ]
  },
  {
   "cell_type": "code",
   "execution_count": 233,
   "metadata": {},
   "outputs": [
    {
     "data": {
      "text/plain": [
       "Series([], Name: PHYSICIAN, dtype: object)"
      ]
     },
     "execution_count": 233,
     "metadata": {},
     "output_type": "execute_result"
    }
   ],
   "source": [
    "df[df[\"CroMax_RX\"].isnull()][\"PHYSICIAN\"]"
   ]
  },
  {
   "cell_type": "code",
   "execution_count": 226,
   "metadata": {},
   "outputs": [],
   "source": [
    "df[\"CroMax_RX\"] = df[\"CroMax_RX\"].fillna(0)"
   ]
  },
  {
   "cell_type": "code",
   "execution_count": 227,
   "metadata": {},
   "outputs": [
    {
     "data": {
      "text/plain": [
       "PHYSICIAN        4\n",
       "CroMax_RX        0\n",
       "GlycoMax_RX      0\n",
       "AllergyMax_RX    0\n",
       "FevMax_RX        0\n",
       "ColdMax_RX       0\n",
       "dtype: int64"
      ]
     },
     "execution_count": 227,
     "metadata": {},
     "output_type": "execute_result"
    }
   ],
   "source": [
    "df.isnull().sum()"
   ]
  },
  {
   "cell_type": "code",
   "execution_count": 228,
   "metadata": {},
   "outputs": [],
   "source": [
    "df=df.dropna()"
   ]
  },
  {
   "cell_type": "code",
   "execution_count": 229,
   "metadata": {},
   "outputs": [
    {
     "data": {
      "text/plain": [
       "PHYSICIAN        0\n",
       "CroMax_RX        0\n",
       "GlycoMax_RX      0\n",
       "AllergyMax_RX    0\n",
       "FevMax_RX        0\n",
       "ColdMax_RX       0\n",
       "dtype: int64"
      ]
     },
     "execution_count": 229,
     "metadata": {},
     "output_type": "execute_result"
    }
   ],
   "source": [
    "df.isnull().sum()"
   ]
  },
  {
   "cell_type": "code",
   "execution_count": 236,
   "metadata": {},
   "outputs": [
    {
     "data": {
      "text/plain": [
       "Index(['PHY', 'CroMax_RX', 'GlycoMax_RX', 'AllergyMax_RX', 'FevMax_RX',\n",
       "       'ColdMax_RX'],\n",
       "      dtype='object')"
      ]
     },
     "execution_count": 236,
     "metadata": {},
     "output_type": "execute_result"
    }
   ],
   "source": [
    "df.columns"
   ]
  },
  {
   "cell_type": "code",
   "execution_count": 238,
   "metadata": {},
   "outputs": [],
   "source": [
    "df=df.rename(columns={'PHY': 'physician'})"
   ]
  },
  {
   "cell_type": "code",
   "execution_count": 239,
   "metadata": {},
   "outputs": [
    {
     "data": {
      "text/html": [
       "<div>\n",
       "<style scoped>\n",
       "    .dataframe tbody tr th:only-of-type {\n",
       "        vertical-align: middle;\n",
       "    }\n",
       "\n",
       "    .dataframe tbody tr th {\n",
       "        vertical-align: top;\n",
       "    }\n",
       "\n",
       "    .dataframe thead th {\n",
       "        text-align: right;\n",
       "    }\n",
       "</style>\n",
       "<table border=\"1\" class=\"dataframe\">\n",
       "  <thead>\n",
       "    <tr style=\"text-align: right;\">\n",
       "      <th></th>\n",
       "      <th>physician</th>\n",
       "      <th>CroMax_RX</th>\n",
       "      <th>GlycoMax_RX</th>\n",
       "      <th>AllergyMax_RX</th>\n",
       "      <th>FevMax_RX</th>\n",
       "      <th>ColdMax_RX</th>\n",
       "    </tr>\n",
       "  </thead>\n",
       "  <tbody>\n",
       "    <tr>\n",
       "      <th>0</th>\n",
       "      <td>AP1912920</td>\n",
       "      <td>0.0</td>\n",
       "      <td>50</td>\n",
       "      <td>510</td>\n",
       "      <td>152</td>\n",
       "      <td>0</td>\n",
       "    </tr>\n",
       "    <tr>\n",
       "      <th>1</th>\n",
       "      <td>AP1350415</td>\n",
       "      <td>2370.0</td>\n",
       "      <td>1320</td>\n",
       "      <td>60</td>\n",
       "      <td>1416</td>\n",
       "      <td>2676</td>\n",
       "    </tr>\n",
       "    <tr>\n",
       "      <th>2</th>\n",
       "      <td>AP0129322</td>\n",
       "      <td>0.0</td>\n",
       "      <td>85</td>\n",
       "      <td>0</td>\n",
       "      <td>0</td>\n",
       "      <td>144</td>\n",
       "    </tr>\n",
       "    <tr>\n",
       "      <th>3</th>\n",
       "      <td>AP0462902</td>\n",
       "      <td>30.0</td>\n",
       "      <td>570</td>\n",
       "      <td>0</td>\n",
       "      <td>128</td>\n",
       "      <td>3900</td>\n",
       "    </tr>\n",
       "    <tr>\n",
       "      <th>4</th>\n",
       "      <td>AP3185026</td>\n",
       "      <td>0.0</td>\n",
       "      <td>40</td>\n",
       "      <td>1080</td>\n",
       "      <td>0</td>\n",
       "      <td>0</td>\n",
       "    </tr>\n",
       "  </tbody>\n",
       "</table>\n",
       "</div>"
      ],
      "text/plain": [
       "   physician  CroMax_RX  GlycoMax_RX  AllergyMax_RX  FevMax_RX  ColdMax_RX\n",
       "0  AP1912920        0.0           50            510        152           0\n",
       "1  AP1350415     2370.0         1320             60       1416        2676\n",
       "2  AP0129322        0.0           85              0          0         144\n",
       "3  AP0462902       30.0          570              0        128        3900\n",
       "4  AP3185026        0.0           40           1080          0           0"
      ]
     },
     "execution_count": 239,
     "metadata": {},
     "output_type": "execute_result"
    }
   ],
   "source": [
    "df.head()"
   ]
  },
  {
   "cell_type": "code",
   "execution_count": 240,
   "metadata": {},
   "outputs": [
    {
     "data": {
      "text/plain": [
       "'hezzo worzd'"
      ]
     },
     "execution_count": 240,
     "metadata": {},
     "output_type": "execute_result"
    }
   ],
   "source": [
    "\"hello world\".replace(\"l\",\"z\")"
   ]
  },
  {
   "cell_type": "code",
   "execution_count": 242,
   "metadata": {},
   "outputs": [],
   "source": [
    "df.columns=df.columns.str.replace(\"_\",\".\")"
   ]
  },
  {
   "cell_type": "code",
   "execution_count": 243,
   "metadata": {},
   "outputs": [
    {
     "data": {
      "text/html": [
       "<div>\n",
       "<style scoped>\n",
       "    .dataframe tbody tr th:only-of-type {\n",
       "        vertical-align: middle;\n",
       "    }\n",
       "\n",
       "    .dataframe tbody tr th {\n",
       "        vertical-align: top;\n",
       "    }\n",
       "\n",
       "    .dataframe thead th {\n",
       "        text-align: right;\n",
       "    }\n",
       "</style>\n",
       "<table border=\"1\" class=\"dataframe\">\n",
       "  <thead>\n",
       "    <tr style=\"text-align: right;\">\n",
       "      <th></th>\n",
       "      <th>physician</th>\n",
       "      <th>CroMax.RX</th>\n",
       "      <th>GlycoMax.RX</th>\n",
       "      <th>AllergyMax.RX</th>\n",
       "      <th>FevMax.RX</th>\n",
       "      <th>ColdMax.RX</th>\n",
       "    </tr>\n",
       "  </thead>\n",
       "  <tbody>\n",
       "    <tr>\n",
       "      <th>0</th>\n",
       "      <td>AP1912920</td>\n",
       "      <td>0.0</td>\n",
       "      <td>50</td>\n",
       "      <td>510</td>\n",
       "      <td>152</td>\n",
       "      <td>0</td>\n",
       "    </tr>\n",
       "    <tr>\n",
       "      <th>1</th>\n",
       "      <td>AP1350415</td>\n",
       "      <td>2370.0</td>\n",
       "      <td>1320</td>\n",
       "      <td>60</td>\n",
       "      <td>1416</td>\n",
       "      <td>2676</td>\n",
       "    </tr>\n",
       "    <tr>\n",
       "      <th>2</th>\n",
       "      <td>AP0129322</td>\n",
       "      <td>0.0</td>\n",
       "      <td>85</td>\n",
       "      <td>0</td>\n",
       "      <td>0</td>\n",
       "      <td>144</td>\n",
       "    </tr>\n",
       "    <tr>\n",
       "      <th>3</th>\n",
       "      <td>AP0462902</td>\n",
       "      <td>30.0</td>\n",
       "      <td>570</td>\n",
       "      <td>0</td>\n",
       "      <td>128</td>\n",
       "      <td>3900</td>\n",
       "    </tr>\n",
       "    <tr>\n",
       "      <th>4</th>\n",
       "      <td>AP3185026</td>\n",
       "      <td>0.0</td>\n",
       "      <td>40</td>\n",
       "      <td>1080</td>\n",
       "      <td>0</td>\n",
       "      <td>0</td>\n",
       "    </tr>\n",
       "  </tbody>\n",
       "</table>\n",
       "</div>"
      ],
      "text/plain": [
       "   physician  CroMax.RX  GlycoMax.RX  AllergyMax.RX  FevMax.RX  ColdMax.RX\n",
       "0  AP1912920        0.0           50            510        152           0\n",
       "1  AP1350415     2370.0         1320             60       1416        2676\n",
       "2  AP0129322        0.0           85              0          0         144\n",
       "3  AP0462902       30.0          570              0        128        3900\n",
       "4  AP3185026        0.0           40           1080          0           0"
      ]
     },
     "execution_count": 243,
     "metadata": {},
     "output_type": "execute_result"
    }
   ],
   "source": [
    "df.head()"
   ]
  },
  {
   "cell_type": "code",
   "execution_count": 244,
   "metadata": {},
   "outputs": [],
   "source": [
    "df[\"physician\"]=df[\"physician\"].str.replace(\"AP\",\"AB\")"
   ]
  },
  {
   "cell_type": "code",
   "execution_count": 245,
   "metadata": {},
   "outputs": [
    {
     "data": {
      "text/html": [
       "<div>\n",
       "<style scoped>\n",
       "    .dataframe tbody tr th:only-of-type {\n",
       "        vertical-align: middle;\n",
       "    }\n",
       "\n",
       "    .dataframe tbody tr th {\n",
       "        vertical-align: top;\n",
       "    }\n",
       "\n",
       "    .dataframe thead th {\n",
       "        text-align: right;\n",
       "    }\n",
       "</style>\n",
       "<table border=\"1\" class=\"dataframe\">\n",
       "  <thead>\n",
       "    <tr style=\"text-align: right;\">\n",
       "      <th></th>\n",
       "      <th>physician</th>\n",
       "      <th>CroMax.RX</th>\n",
       "      <th>GlycoMax.RX</th>\n",
       "      <th>AllergyMax.RX</th>\n",
       "      <th>FevMax.RX</th>\n",
       "      <th>ColdMax.RX</th>\n",
       "    </tr>\n",
       "  </thead>\n",
       "  <tbody>\n",
       "    <tr>\n",
       "      <th>0</th>\n",
       "      <td>AB1912920</td>\n",
       "      <td>0.0</td>\n",
       "      <td>50</td>\n",
       "      <td>510</td>\n",
       "      <td>152</td>\n",
       "      <td>0</td>\n",
       "    </tr>\n",
       "    <tr>\n",
       "      <th>1</th>\n",
       "      <td>AB1350415</td>\n",
       "      <td>2370.0</td>\n",
       "      <td>1320</td>\n",
       "      <td>60</td>\n",
       "      <td>1416</td>\n",
       "      <td>2676</td>\n",
       "    </tr>\n",
       "    <tr>\n",
       "      <th>2</th>\n",
       "      <td>AB0129322</td>\n",
       "      <td>0.0</td>\n",
       "      <td>85</td>\n",
       "      <td>0</td>\n",
       "      <td>0</td>\n",
       "      <td>144</td>\n",
       "    </tr>\n",
       "    <tr>\n",
       "      <th>3</th>\n",
       "      <td>AB0462902</td>\n",
       "      <td>30.0</td>\n",
       "      <td>570</td>\n",
       "      <td>0</td>\n",
       "      <td>128</td>\n",
       "      <td>3900</td>\n",
       "    </tr>\n",
       "    <tr>\n",
       "      <th>4</th>\n",
       "      <td>AB3185026</td>\n",
       "      <td>0.0</td>\n",
       "      <td>40</td>\n",
       "      <td>1080</td>\n",
       "      <td>0</td>\n",
       "      <td>0</td>\n",
       "    </tr>\n",
       "  </tbody>\n",
       "</table>\n",
       "</div>"
      ],
      "text/plain": [
       "   physician  CroMax.RX  GlycoMax.RX  AllergyMax.RX  FevMax.RX  ColdMax.RX\n",
       "0  AB1912920        0.0           50            510        152           0\n",
       "1  AB1350415     2370.0         1320             60       1416        2676\n",
       "2  AB0129322        0.0           85              0          0         144\n",
       "3  AB0462902       30.0          570              0        128        3900\n",
       "4  AB3185026        0.0           40           1080          0           0"
      ]
     },
     "execution_count": 245,
     "metadata": {},
     "output_type": "execute_result"
    }
   ],
   "source": [
    "df.head()"
   ]
  },
  {
   "cell_type": "code",
   "execution_count": 280,
   "metadata": {},
   "outputs": [],
   "source": [
    "df[\"bucket\"]=\"B1\""
   ]
  },
  {
   "cell_type": "code",
   "execution_count": 283,
   "metadata": {},
   "outputs": [],
   "source": [
    "df = df.iloc[:, 1:]"
   ]
  },
  {
   "cell_type": "code",
   "execution_count": 284,
   "metadata": {},
   "outputs": [
    {
     "data": {
      "text/html": [
       "<div>\n",
       "<style scoped>\n",
       "    .dataframe tbody tr th:only-of-type {\n",
       "        vertical-align: middle;\n",
       "    }\n",
       "\n",
       "    .dataframe tbody tr th {\n",
       "        vertical-align: top;\n",
       "    }\n",
       "\n",
       "    .dataframe thead th {\n",
       "        text-align: right;\n",
       "    }\n",
       "</style>\n",
       "<table border=\"1\" class=\"dataframe\">\n",
       "  <thead>\n",
       "    <tr style=\"text-align: right;\">\n",
       "      <th></th>\n",
       "      <th>new_physician</th>\n",
       "      <th>CroMax.RX</th>\n",
       "      <th>GlycoMax.RX</th>\n",
       "      <th>AllergyMax.RX</th>\n",
       "      <th>FevMax.RX</th>\n",
       "      <th>ColdMax.RX</th>\n",
       "      <th>bucket</th>\n",
       "    </tr>\n",
       "  </thead>\n",
       "  <tbody>\n",
       "    <tr>\n",
       "      <th>0</th>\n",
       "      <td>B1_AB1912920</td>\n",
       "      <td>0.0</td>\n",
       "      <td>50</td>\n",
       "      <td>510</td>\n",
       "      <td>152</td>\n",
       "      <td>0</td>\n",
       "      <td>B1</td>\n",
       "    </tr>\n",
       "    <tr>\n",
       "      <th>1</th>\n",
       "      <td>B1_AB1350415</td>\n",
       "      <td>2370.0</td>\n",
       "      <td>1320</td>\n",
       "      <td>60</td>\n",
       "      <td>1416</td>\n",
       "      <td>2676</td>\n",
       "      <td>B1</td>\n",
       "    </tr>\n",
       "    <tr>\n",
       "      <th>2</th>\n",
       "      <td>B1_AB0129322</td>\n",
       "      <td>0.0</td>\n",
       "      <td>85</td>\n",
       "      <td>0</td>\n",
       "      <td>0</td>\n",
       "      <td>144</td>\n",
       "      <td>B1</td>\n",
       "    </tr>\n",
       "    <tr>\n",
       "      <th>3</th>\n",
       "      <td>B1_AB0462902</td>\n",
       "      <td>30.0</td>\n",
       "      <td>570</td>\n",
       "      <td>0</td>\n",
       "      <td>128</td>\n",
       "      <td>3900</td>\n",
       "      <td>B1</td>\n",
       "    </tr>\n",
       "    <tr>\n",
       "      <th>4</th>\n",
       "      <td>B1_AB3185026</td>\n",
       "      <td>0.0</td>\n",
       "      <td>40</td>\n",
       "      <td>1080</td>\n",
       "      <td>0</td>\n",
       "      <td>0</td>\n",
       "      <td>B1</td>\n",
       "    </tr>\n",
       "  </tbody>\n",
       "</table>\n",
       "</div>"
      ],
      "text/plain": [
       "  new_physician  CroMax.RX  GlycoMax.RX  AllergyMax.RX  FevMax.RX  ColdMax.RX  \\\n",
       "0  B1_AB1912920        0.0           50            510        152           0   \n",
       "1  B1_AB1350415     2370.0         1320             60       1416        2676   \n",
       "2  B1_AB0129322        0.0           85              0          0         144   \n",
       "3  B1_AB0462902       30.0          570              0        128        3900   \n",
       "4  B1_AB3185026        0.0           40           1080          0           0   \n",
       "\n",
       "  bucket  \n",
       "0     B1  \n",
       "1     B1  \n",
       "2     B1  \n",
       "3     B1  \n",
       "4     B1  "
      ]
     },
     "execution_count": 284,
     "metadata": {},
     "output_type": "execute_result"
    }
   ],
   "source": [
    "df.head()"
   ]
  },
  {
   "cell_type": "code",
   "execution_count": 292,
   "metadata": {},
   "outputs": [],
   "source": [
    "df[\"new_physician\"].str.split(\"_\")\n",
    "df[\"physiciann\"]=df[\"new_physician\"].str.split(\"_\").str[1]\n",
    "df[\"new buckett\"]=df[\"new_physician\"].str.split(\"_\").str[0]"
   ]
  },
  {
   "cell_type": "code",
   "execution_count": 293,
   "metadata": {},
   "outputs": [
    {
     "data": {
      "text/html": [
       "<div>\n",
       "<style scoped>\n",
       "    .dataframe tbody tr th:only-of-type {\n",
       "        vertical-align: middle;\n",
       "    }\n",
       "\n",
       "    .dataframe tbody tr th {\n",
       "        vertical-align: top;\n",
       "    }\n",
       "\n",
       "    .dataframe thead th {\n",
       "        text-align: right;\n",
       "    }\n",
       "</style>\n",
       "<table border=\"1\" class=\"dataframe\">\n",
       "  <thead>\n",
       "    <tr style=\"text-align: right;\">\n",
       "      <th></th>\n",
       "      <th>new_physician</th>\n",
       "      <th>CroMax.RX</th>\n",
       "      <th>GlycoMax.RX</th>\n",
       "      <th>AllergyMax.RX</th>\n",
       "      <th>FevMax.RX</th>\n",
       "      <th>ColdMax.RX</th>\n",
       "      <th>bucket</th>\n",
       "      <th>physician</th>\n",
       "      <th>new bucket</th>\n",
       "      <th>physiciann</th>\n",
       "      <th>new buckett</th>\n",
       "    </tr>\n",
       "  </thead>\n",
       "  <tbody>\n",
       "    <tr>\n",
       "      <th>0</th>\n",
       "      <td>B1_AB1912920</td>\n",
       "      <td>0.0</td>\n",
       "      <td>50</td>\n",
       "      <td>510</td>\n",
       "      <td>152</td>\n",
       "      <td>0</td>\n",
       "      <td>B1</td>\n",
       "      <td>AB1912920</td>\n",
       "      <td>B1</td>\n",
       "      <td>AB1912920</td>\n",
       "      <td>B1</td>\n",
       "    </tr>\n",
       "    <tr>\n",
       "      <th>1</th>\n",
       "      <td>B1_AB1350415</td>\n",
       "      <td>2370.0</td>\n",
       "      <td>1320</td>\n",
       "      <td>60</td>\n",
       "      <td>1416</td>\n",
       "      <td>2676</td>\n",
       "      <td>B1</td>\n",
       "      <td>AB1350415</td>\n",
       "      <td>B1</td>\n",
       "      <td>AB1350415</td>\n",
       "      <td>B1</td>\n",
       "    </tr>\n",
       "    <tr>\n",
       "      <th>2</th>\n",
       "      <td>B1_AB0129322</td>\n",
       "      <td>0.0</td>\n",
       "      <td>85</td>\n",
       "      <td>0</td>\n",
       "      <td>0</td>\n",
       "      <td>144</td>\n",
       "      <td>B1</td>\n",
       "      <td>AB0129322</td>\n",
       "      <td>B1</td>\n",
       "      <td>AB0129322</td>\n",
       "      <td>B1</td>\n",
       "    </tr>\n",
       "    <tr>\n",
       "      <th>3</th>\n",
       "      <td>B1_AB0462902</td>\n",
       "      <td>30.0</td>\n",
       "      <td>570</td>\n",
       "      <td>0</td>\n",
       "      <td>128</td>\n",
       "      <td>3900</td>\n",
       "      <td>B1</td>\n",
       "      <td>AB0462902</td>\n",
       "      <td>B1</td>\n",
       "      <td>AB0462902</td>\n",
       "      <td>B1</td>\n",
       "    </tr>\n",
       "    <tr>\n",
       "      <th>4</th>\n",
       "      <td>B1_AB3185026</td>\n",
       "      <td>0.0</td>\n",
       "      <td>40</td>\n",
       "      <td>1080</td>\n",
       "      <td>0</td>\n",
       "      <td>0</td>\n",
       "      <td>B1</td>\n",
       "      <td>AB3185026</td>\n",
       "      <td>B1</td>\n",
       "      <td>AB3185026</td>\n",
       "      <td>B1</td>\n",
       "    </tr>\n",
       "  </tbody>\n",
       "</table>\n",
       "</div>"
      ],
      "text/plain": [
       "  new_physician  CroMax.RX  GlycoMax.RX  AllergyMax.RX  FevMax.RX  ColdMax.RX  \\\n",
       "0  B1_AB1912920        0.0           50            510        152           0   \n",
       "1  B1_AB1350415     2370.0         1320             60       1416        2676   \n",
       "2  B1_AB0129322        0.0           85              0          0         144   \n",
       "3  B1_AB0462902       30.0          570              0        128        3900   \n",
       "4  B1_AB3185026        0.0           40           1080          0           0   \n",
       "\n",
       "  bucket  physician new bucket physiciann new buckett  \n",
       "0     B1  AB1912920         B1  AB1912920          B1  \n",
       "1     B1  AB1350415         B1  AB1350415          B1  \n",
       "2     B1  AB0129322         B1  AB0129322          B1  \n",
       "3     B1  AB0462902         B1  AB0462902          B1  \n",
       "4     B1  AB3185026         B1  AB3185026          B1  "
      ]
     },
     "execution_count": 293,
     "metadata": {},
     "output_type": "execute_result"
    }
   ],
   "source": [
    "df.head()"
   ]
  },
  {
   "cell_type": "code",
   "execution_count": 294,
   "metadata": {},
   "outputs": [
    {
     "data": {
      "text/plain": [
       "Index(['new_physician', 'CroMax.RX', 'GlycoMax.RX', 'AllergyMax.RX',\n",
       "       'FevMax.RX', 'ColdMax.RX', 'bucket', 'physician', 'new bucket',\n",
       "       'physiciann', 'new buckett'],\n",
       "      dtype='object')"
      ]
     },
     "execution_count": 294,
     "metadata": {},
     "output_type": "execute_result"
    }
   ],
   "source": [
    "df.columns"
   ]
  },
  {
   "cell_type": "code",
   "execution_count": 296,
   "metadata": {},
   "outputs": [],
   "source": [
    "df = df[['new_physician', 'CroMax.RX', 'GlycoMax.RX', 'AllergyMax.RX','FevMax.RX', 'ColdMax.RX','physiciann', 'new buckett']]"
   ]
  },
  {
   "cell_type": "code",
   "execution_count": 1,
   "metadata": {},
   "outputs": [
    {
     "ename": "NameError",
     "evalue": "name 'df' is not defined",
     "output_type": "error",
     "traceback": [
      "\u001b[1;31m---------------------------------------------------------------------------\u001b[0m",
      "\u001b[1;31mNameError\u001b[0m                                 Traceback (most recent call last)",
      "\u001b[1;32m<ipython-input-1-c42a15b2c7cf>\u001b[0m in \u001b[0;36m<module>\u001b[1;34m()\u001b[0m\n\u001b[1;32m----> 1\u001b[1;33m \u001b[0mdf\u001b[0m\u001b[1;33m.\u001b[0m\u001b[0mhead\u001b[0m\u001b[1;33m(\u001b[0m\u001b[1;33m)\u001b[0m\u001b[1;33m\u001b[0m\u001b[0m\n\u001b[0m",
      "\u001b[1;31mNameError\u001b[0m: name 'df' is not defined"
     ]
    }
   ],
   "source": [
    "df.head()"
   ]
  },
  {
   "cell_type": "code",
   "execution_count": 2,
   "metadata": {},
   "outputs": [],
   "source": [
    "import pandas as pd\n",
    "df=pd.DataFrame({'a':[1,2,1,2,4],'b':[4,5,4,5,6]})"
   ]
  },
  {
   "cell_type": "code",
   "execution_count": 3,
   "metadata": {},
   "outputs": [
    {
     "data": {
      "text/plain": [
       "0     True\n",
       "1     True\n",
       "2     True\n",
       "3     True\n",
       "4    False\n",
       "dtype: bool"
      ]
     },
     "execution_count": 3,
     "metadata": {},
     "output_type": "execute_result"
    }
   ],
   "source": [
    "df.duplicated(keep=False) #df.duplicated(keep=\"first\")"
   ]
  },
  {
   "cell_type": "code",
   "execution_count": 4,
   "metadata": {},
   "outputs": [
    {
     "data": {
      "text/plain": [
       "0    False\n",
       "1    False\n",
       "2     True\n",
       "3     True\n",
       "4    False\n",
       "dtype: bool"
      ]
     },
     "execution_count": 4,
     "metadata": {},
     "output_type": "execute_result"
    }
   ],
   "source": [
    "df.duplicated(keep=\"first\")"
   ]
  },
  {
   "cell_type": "code",
   "execution_count": 5,
   "metadata": {},
   "outputs": [
    {
     "data": {
      "text/html": [
       "<div>\n",
       "<style scoped>\n",
       "    .dataframe tbody tr th:only-of-type {\n",
       "        vertical-align: middle;\n",
       "    }\n",
       "\n",
       "    .dataframe tbody tr th {\n",
       "        vertical-align: top;\n",
       "    }\n",
       "\n",
       "    .dataframe thead th {\n",
       "        text-align: right;\n",
       "    }\n",
       "</style>\n",
       "<table border=\"1\" class=\"dataframe\">\n",
       "  <thead>\n",
       "    <tr style=\"text-align: right;\">\n",
       "      <th></th>\n",
       "      <th>a</th>\n",
       "      <th>b</th>\n",
       "    </tr>\n",
       "  </thead>\n",
       "  <tbody>\n",
       "    <tr>\n",
       "      <th>0</th>\n",
       "      <td>1</td>\n",
       "      <td>4</td>\n",
       "    </tr>\n",
       "    <tr>\n",
       "      <th>1</th>\n",
       "      <td>2</td>\n",
       "      <td>5</td>\n",
       "    </tr>\n",
       "    <tr>\n",
       "      <th>4</th>\n",
       "      <td>4</td>\n",
       "      <td>6</td>\n",
       "    </tr>\n",
       "  </tbody>\n",
       "</table>\n",
       "</div>"
      ],
      "text/plain": [
       "   a  b\n",
       "0  1  4\n",
       "1  2  5\n",
       "4  4  6"
      ]
     },
     "execution_count": 5,
     "metadata": {},
     "output_type": "execute_result"
    }
   ],
   "source": [
    "df[~df.duplicated()]"
   ]
  },
  {
   "cell_type": "code",
   "execution_count": null,
   "metadata": {},
   "outputs": [],
   "source": []
  }
 ],
 "metadata": {
  "kernelspec": {
   "display_name": "Python 3",
   "language": "python",
   "name": "python3"
  },
  "language_info": {
   "codemirror_mode": {
    "name": "ipython",
    "version": 3
   },
   "file_extension": ".py",
   "mimetype": "text/x-python",
   "name": "python",
   "nbconvert_exporter": "python",
   "pygments_lexer": "ipython3",
   "version": "3.7.0"
  }
 },
 "nbformat": 4,
 "nbformat_minor": 2
}
